{
 "cells": [
  {
   "cell_type": "code",
   "execution_count": 1,
   "metadata": {},
   "outputs": [
    {
     "name": "stdout",
     "output_type": "stream",
     "text": [
      "Collecting tmdbsimple\n",
      "  Downloading tmdbsimple-1.8.0-py2.py3-none-any.whl\n",
      "Requirement already satisfied: requests in /opt/conda/lib/python3.6/site-packages (from tmdbsimple)\n",
      "Requirement already satisfied: chardet<3.1.0,>=3.0.2 in /opt/conda/lib/python3.6/site-packages (from requests->tmdbsimple)\n",
      "Requirement already satisfied: idna<2.7,>=2.5 in /opt/conda/lib/python3.6/site-packages (from requests->tmdbsimple)\n",
      "Requirement already satisfied: urllib3<1.23,>=1.21.1 in /opt/conda/lib/python3.6/site-packages (from requests->tmdbsimple)\n",
      "Requirement already satisfied: certifi>=2017.4.17 in /opt/conda/lib/python3.6/site-packages (from requests->tmdbsimple)\n",
      "Installing collected packages: tmdbsimple\n",
      "Successfully installed tmdbsimple-1.8.0\n",
      "Requirement already satisfied: python-dateutil in /opt/conda/lib/python3.6/site-packages\n",
      "Requirement already satisfied: six>=1.5 in /opt/conda/lib/python3.6/site-packages (from python-dateutil)\n",
      "Collecting ggplot\n",
      "  Downloading ggplot-0.11.5-py2.py3-none-any.whl (2.2MB)\n",
      "\u001b[K    100% |████████████████████████████████| 2.2MB 167kB/s ta 0:00:01    75% |████████████████████████▎       | 1.7MB 158kB/s eta 0:00:04\n",
      "\u001b[?25hRequirement already satisfied: numpy in /opt/conda/lib/python3.6/site-packages (from ggplot)\n",
      "Requirement already satisfied: matplotlib in /opt/conda/lib/python3.6/site-packages (from ggplot)\n",
      "Requirement already satisfied: scipy in /opt/conda/lib/python3.6/site-packages (from ggplot)\n",
      "Requirement already satisfied: six in /opt/conda/lib/python3.6/site-packages (from ggplot)\n",
      "Collecting brewer2mpl (from ggplot)\n",
      "  Downloading brewer2mpl-1.4.1-py2.py3-none-any.whl\n",
      "Requirement already satisfied: statsmodels in /opt/conda/lib/python3.6/site-packages (from ggplot)\n",
      "Requirement already satisfied: pandas in /opt/conda/lib/python3.6/site-packages (from ggplot)\n",
      "Requirement already satisfied: patsy>=0.4 in /opt/conda/lib/python3.6/site-packages (from ggplot)\n",
      "Requirement already satisfied: cycler in /opt/conda/lib/python3.6/site-packages/cycler-0.10.0-py3.6.egg (from ggplot)\n",
      "Requirement already satisfied: python-dateutil in /opt/conda/lib/python3.6/site-packages (from matplotlib->ggplot)\n",
      "Requirement already satisfied: pytz in /opt/conda/lib/python3.6/site-packages (from matplotlib->ggplot)\n",
      "Requirement already satisfied: pyparsing!=2.0.4,!=2.1.2,!=2.1.6,>=1.5.6 in /opt/conda/lib/python3.6/site-packages (from matplotlib->ggplot)\n",
      "Installing collected packages: brewer2mpl, ggplot\n",
      "Successfully installed brewer2mpl-1.4.1 ggplot-0.11.5\n"
     ]
    }
   ],
   "source": [
    "!pip install tmdbsimple\n",
    "!pip install python-dateutil\n",
    "!pip install ggplot\n",
    "import numpy as np\n",
    "from ggplot import *\n",
    "import pandas as pd\n",
    "import tmdbsimple as tmdb\n",
    "import time\n",
    "import datetime\n",
    "from dateutil import parser\n",
    "import matplotlib.pyplot as plt\n",
    "from sklearn import linear_model\n",
    "import sklearn.datasets as ds\n",
    "import statsmodels.api as sm\n",
    "from sklearn.feature_selection import f_regression\n"
   ]
  },
  {
   "cell_type": "markdown",
   "metadata": {},
   "source": [
    "# TMDb Data Analysis\n",
    "\n",
    "## Part I: How closely related are a TV show's user rating, genre, and number of seasons?\n",
    "\n",
    "### Introduction & Hypothesis:\n",
    "From The Honeymooners to Game of Thrones, television series have been a staple of American culture for nearly seven decades. Some don't last long before falling to the proverbial network axe (Freaks & Geeks, Twin Peaks) and subsequently gain cult followings, while others become major successes for their networks and either shape the genre for years to follow (Seinfeld, Breaking Bad) or become stale after running for a certain number of seasons (Arrow). We'd like to learn more about the latter category of shows, more specifically what separates the shows that sustain greatness from those that lose their touch.\n",
    "\n",
    "We hypothesize that we can relate a show's rating, genre, and number of seasons together. We believe that \"thinker\" genres, like Drama, Crime, and Sci-Fi/Fantasy will tend to have shows that have higher user ratings but lower seasons compared to genres like Comedy and Action, which will have lower user ratings but more seasons.\n",
    "\n",
    "We will test our hypothesis using data from an open source movie database, TMDb, and a python wrapper for it called tmdbsimple, of which a quick demo is shown below.\n",
    "\n",
    "Steps to test are as follows:\n",
    "1. Gathering data on shows with more than 200 votes and 4 or more seasons\n",
    "2. Cleaning and organizing the data in a pandas table\n",
    "3. Visualizing this data graphically\n",
    "4. Getting models to predict a show's rating and expected number of seasons"
   ]
  },
  {
   "cell_type": "code",
   "execution_count": 2,
   "metadata": {},
   "outputs": [],
   "source": [
    "tmdb.API_KEY = '0b6ab414e6fd79648a868782b0750b09'"
   ]
  },
  {
   "cell_type": "code",
   "execution_count": 4,
   "metadata": {},
   "outputs": [
    {
     "data": {
      "text/plain": [
       "{'backdrop_path': '/f5uNbUC76oowt5mt5J9QlqrIYQ6.jpg',\n",
       " 'created_by': [{'gender': 2,\n",
       "   'id': 5741,\n",
       "   'name': 'Matt Groening',\n",
       "   'profile_path': '/zYzOuM94hbVmage9XZrQ8daHyoF.jpg'}],\n",
       " 'episode_run_time': [22],\n",
       " 'first_air_date': '1989-12-17',\n",
       " 'genres': [{'id': 16, 'name': 'Animation'}, {'id': 35, 'name': 'Comedy'}],\n",
       " 'homepage': 'http://www.thesimpsons.com/',\n",
       " 'id': 456,\n",
       " 'in_production': True,\n",
       " 'languages': ['en'],\n",
       " 'last_air_date': '2017-12-10',\n",
       " 'name': 'The Simpsons',\n",
       " 'networks': [{'id': 19, 'name': 'Fox Broadcasting Company'}],\n",
       " 'number_of_episodes': 688,\n",
       " 'number_of_seasons': 29,\n",
       " 'origin_country': ['US'],\n",
       " 'original_language': 'en',\n",
       " 'original_name': 'The Simpsons',\n",
       " 'overview': 'Set in Springfield, the average American town, the show focuses on the antics and everyday adventures of the Simpson family; Homer, Marge, Bart, Lisa and Maggie, as well as a virtual cast of thousands. Since the beginning, the series has been a pop culture icon, attracting hundreds of celebrities to guest star. The show has also made name for itself in its fearless satirical take on politics, media and American life in general.',\n",
       " 'popularity': 112.722776,\n",
       " 'poster_path': '/yTZQkSsxUFJZJe67IenRM0AEklc.jpg',\n",
       " 'production_companies': [{'id': 18, 'name': 'Gracie Films'},\n",
       "  {'id': 1556, 'name': '20th Century Fox Television'},\n",
       "  {'id': 29500, 'name': 'The Curiosity Company'}],\n",
       " 'seasons': [{'air_date': '1987-04-19',\n",
       "   'episode_count': 61,\n",
       "   'id': 3581,\n",
       "   'poster_path': '/lzN0CllVFXtGtSl15r59Kb52DdT.jpg',\n",
       "   'season_number': 0},\n",
       "  {'air_date': '1989-12-17',\n",
       "   'episode_count': 13,\n",
       "   'id': 3582,\n",
       "   'poster_path': '/u3U4aGwSTpvbULPHTsm7XhadynO.jpg',\n",
       "   'season_number': 1},\n",
       "  {'air_date': '1991-03-23',\n",
       "   'episode_count': 22,\n",
       "   'id': 3583,\n",
       "   'poster_path': '/78320WYaATUuEESTvO4x0mBdndA.jpg',\n",
       "   'season_number': 2},\n",
       "  {'air_date': '1991-09-19',\n",
       "   'episode_count': 24,\n",
       "   'id': 3584,\n",
       "   'poster_path': '/sEmfyUy9mts03y6KoI782gi2fVd.jpg',\n",
       "   'season_number': 3},\n",
       "  {'air_date': '1992-09-24',\n",
       "   'episode_count': 22,\n",
       "   'id': 3585,\n",
       "   'poster_path': '/eraNNGEdCn29cTyzjwfBgBdTetF.jpg',\n",
       "   'season_number': 4},\n",
       "  {'air_date': '1993-09-30',\n",
       "   'episode_count': 22,\n",
       "   'id': 3586,\n",
       "   'poster_path': '/sTIcXTOctWM3YxEfj1MtViW2E11.jpg',\n",
       "   'season_number': 5},\n",
       "  {'air_date': '1994-09-04',\n",
       "   'episode_count': 25,\n",
       "   'id': 3587,\n",
       "   'poster_path': '/dJS8Xpp14LHHxuF22Vcm5XDm1wE.jpg',\n",
       "   'season_number': 6},\n",
       "  {'air_date': '1995-09-17',\n",
       "   'episode_count': 25,\n",
       "   'id': 3588,\n",
       "   'poster_path': '/xYGX2iSj7zPu74Pc2skbK93LPB3.jpg',\n",
       "   'season_number': 7},\n",
       "  {'air_date': '1996-10-27',\n",
       "   'episode_count': 25,\n",
       "   'id': 3589,\n",
       "   'poster_path': '/m72zcCV1djfXc60zup3T7orWKau.jpg',\n",
       "   'season_number': 8},\n",
       "  {'air_date': '1997-09-21',\n",
       "   'episode_count': 25,\n",
       "   'id': 3590,\n",
       "   'poster_path': '/cjZ0HnuMVi8SOTA0L2JnHbFZKms.jpg',\n",
       "   'season_number': 9},\n",
       "  {'air_date': '1998-08-23',\n",
       "   'episode_count': 23,\n",
       "   'id': 3591,\n",
       "   'poster_path': '/t4wiOGBgoSRgofYxQvRL5WZe6Aj.jpg',\n",
       "   'season_number': 10},\n",
       "  {'air_date': '1999-09-26',\n",
       "   'episode_count': 22,\n",
       "   'id': 3592,\n",
       "   'poster_path': '/4Rq5t85B4bt8TYvmhCVhDmk7qMN.jpg',\n",
       "   'season_number': 11},\n",
       "  {'air_date': '2000-11-01',\n",
       "   'episode_count': 21,\n",
       "   'id': 3593,\n",
       "   'poster_path': '/oHBBoAlXX32ROwWCQ0SJrzORCAE.jpg',\n",
       "   'season_number': 12},\n",
       "  {'air_date': '2001-11-06',\n",
       "   'episode_count': 22,\n",
       "   'id': 3594,\n",
       "   'poster_path': '/wQTdRc2sWgAKFHS1BTHdIzVRmwU.jpg',\n",
       "   'season_number': 13},\n",
       "  {'air_date': '2002-11-03',\n",
       "   'episode_count': 22,\n",
       "   'id': 3595,\n",
       "   'poster_path': '/mgGrn5FiofW2bqpJC9PPcwEc84p.jpg',\n",
       "   'season_number': 14},\n",
       "  {'air_date': '2003-11-02',\n",
       "   'episode_count': 22,\n",
       "   'id': 3596,\n",
       "   'poster_path': '/gSgRvuqI4cWOLONTBl6qW2y2Cih.jpg',\n",
       "   'season_number': 15},\n",
       "  {'air_date': '2004-11-07',\n",
       "   'episode_count': 21,\n",
       "   'id': 3597,\n",
       "   'poster_path': '/rdsBcs6VPJHnQgeLg8YinKyvnjO.jpg',\n",
       "   'season_number': 16},\n",
       "  {'air_date': '2005-09-11',\n",
       "   'episode_count': 22,\n",
       "   'id': 3598,\n",
       "   'poster_path': '/vfcmgPqoFmb0hOe6V0DI5qf3y83.jpg',\n",
       "   'season_number': 17},\n",
       "  {'air_date': '2006-09-10',\n",
       "   'episode_count': 22,\n",
       "   'id': 3599,\n",
       "   'poster_path': '/sFG5v9zFZL0RKb1lStwwvgIc76a.jpg',\n",
       "   'season_number': 18},\n",
       "  {'air_date': '2007-09-23',\n",
       "   'episode_count': 20,\n",
       "   'id': 3600,\n",
       "   'poster_path': '/mbgW40YuFJL7VIyrOFAktHl7M8h.jpg',\n",
       "   'season_number': 19},\n",
       "  {'air_date': '2008-09-28',\n",
       "   'episode_count': 21,\n",
       "   'id': 3601,\n",
       "   'poster_path': '/eAdllHJ9ZSN7vMjwzIbcVqMSV6t.jpg',\n",
       "   'season_number': 20},\n",
       "  {'air_date': '2009-09-27',\n",
       "   'episode_count': 23,\n",
       "   'id': 3602,\n",
       "   'poster_path': '/vT5OgXM5rMKzzF4rrSjFxI3USCg.jpg',\n",
       "   'season_number': 21},\n",
       "  {'air_date': '2010-09-26',\n",
       "   'episode_count': 22,\n",
       "   'id': 3603,\n",
       "   'poster_path': '/dfYWKwINJ5DaJHxdkHtaVJQfBZI.jpg',\n",
       "   'season_number': 22},\n",
       "  {'air_date': '2011-09-25',\n",
       "   'episode_count': 22,\n",
       "   'id': 3604,\n",
       "   'poster_path': '/leehbIbn1loBlEndV7WibzyRtuV.jpg',\n",
       "   'season_number': 23},\n",
       "  {'air_date': '2012-09-30',\n",
       "   'episode_count': 22,\n",
       "   'id': 3605,\n",
       "   'poster_path': '/geQfditNq4d4pZXAEAnUAFtWoGL.jpg',\n",
       "   'season_number': 24},\n",
       "  {'air_date': '2013-09-29',\n",
       "   'episode_count': 22,\n",
       "   'id': 3606,\n",
       "   'poster_path': '/e0MUnARB8E0BmtHpEvE1Xu1RR3Y.jpg',\n",
       "   'season_number': 25},\n",
       "  {'air_date': '2014-09-28',\n",
       "   'episode_count': 22,\n",
       "   'id': 62103,\n",
       "   'poster_path': '/n4BUAp24PFUG8r5NjRfAHNzcQYO.jpg',\n",
       "   'season_number': 26},\n",
       "  {'air_date': '2015-09-27',\n",
       "   'episode_count': 22,\n",
       "   'id': 68067,\n",
       "   'poster_path': '/9GNWc1Y0pHkHuuciqcsKEskC3hn.jpg',\n",
       "   'season_number': 27},\n",
       "  {'air_date': '2016-09-25',\n",
       "   'episode_count': 22,\n",
       "   'id': 80361,\n",
       "   'poster_path': '/qfGY3dcd8QIf72PmkiYHc4LtbM1.jpg',\n",
       "   'season_number': 28},\n",
       "  {'air_date': '2017-10-01',\n",
       "   'episode_count': 9,\n",
       "   'id': 91255,\n",
       "   'poster_path': '/oH91P8Dz844xlygdPOumITSjfJE.jpg',\n",
       "   'season_number': 29}],\n",
       " 'status': 'Returning Series',\n",
       " 'type': 'Scripted',\n",
       " 'vote_average': 7.1,\n",
       " 'vote_count': 1221}"
      ]
     },
     "execution_count": 4,
     "metadata": {},
     "output_type": "execute_result"
    }
   ],
   "source": [
    "tv = tmdb.TV(456) #Keep these cells as demo for tmdb api?\n",
    "info = tv.info()\n",
    "info #JSON rep of show info"
   ]
  },
  {
   "cell_type": "code",
   "execution_count": 5,
   "metadata": {
    "collapsed": true
   },
   "outputs": [],
   "source": [
    "genres = info.get('genres')"
   ]
  },
  {
   "cell_type": "code",
   "execution_count": 6,
   "metadata": {},
   "outputs": [
    {
     "name": "stdout",
     "output_type": "stream",
     "text": [
      "Animation\n",
      "Comedy\n"
     ]
    }
   ],
   "source": [
    "for x in genres:\n",
    "    print(x['name'])"
   ]
  },
  {
   "cell_type": "markdown",
   "metadata": {},
   "source": [
    "### Data Collection\n",
    "Here we scrape data from shows which are 4+ seasons long and 200+ user votes. Collection of data took a while both because the TMDb API only allows 240 requests/min - which was accounted for by \"sleeping\" our process after each API call - and because we didn't have any way to get a good range of TV ids that TMDb uses to index TV shows, so we didn't come across many shows in the first 30000 possible ids that matched our criteria. We ended up collecting rating, genre, episode and popularity data on 75 TV shows."
   ]
  },
  {
   "cell_type": "code",
   "execution_count": null,
   "metadata": {},
   "outputs": [],
   "source": [
    "tv_id = 1\n",
    "shows = []\n",
    "ratings = []\n",
    "genres = []\n",
    "seasons = []\n",
    "pops = []\n",
    "episodes = []\n",
    "ids = []\n",
    "\n",
    "while (tv_id < 30000):\n",
    "    tv = tmdb.TV(tv_id)\n",
    "    time.sleep(.251)\n",
    "    \n",
    "    try:\n",
    "        #get info from JSON object returned from request\n",
    "        info = tv.info()\n",
    "        name = info.get('name')\n",
    "        season_no = info.get('number_of_seasons')\n",
    "        episode = info.get('number_of_episodes')\n",
    "        rating = info.get('vote_average')\n",
    "        genre_s = info.get('genres')\n",
    "        genre = \"\"\n",
    "        pop = info.get('popularity')\n",
    "        votes = info.get('vote_count')\n",
    "        for x in genre_s: #just get name of \n",
    "            genre += x['name'] + \"/\"\n",
    "        \n",
    "        \n",
    "        if votes >= 200 and season_no >= 4:\n",
    "            shows.append(name)\n",
    "            ids.append(tv_id)\n",
    "            ratings.append(rating)\n",
    "            genres.append(genre)\n",
    "            episodes.append(episode)\n",
    "            seasons.append(season_no)\n",
    "            pops.append(pop)\n",
    "            \n",
    "    except:\n",
    "        pass\n",
    "    \n",
    "    if tv_id == 5920: #account for some gaps in data\n",
    "        tv_id = 8592\n",
    "    elif tv_id == 8592:\n",
    "        tv_id = 10283\n",
    "    elif tv_id == 10545:\n",
    "        tv_id = 17962\n",
    "    else:\n",
    "        tv_id += 1"
   ]
  },
  {
   "cell_type": "markdown",
   "metadata": {},
   "source": [
    "### Dataframe\n",
    "Once we collected all of our data into lists, we wrote and saved this data to a tabbed separated value file (tsv) so that we could jump back into our analysis at any time without having to wait hours to collect again using the API."
   ]
  },
  {
   "cell_type": "code",
   "execution_count": 15,
   "metadata": {
    "collapsed": true
   },
   "outputs": [],
   "source": [
    "with open(\"TVout.tsv\", \"a\") as f: #title the respective columns\n",
    "        print (\"%s\\t%s\\t%s\\t%s\\t%s\\t%s\\t%s\" % (\"show\", \"tv_id\", \"rating\", \"seasons\", \"episodes\", \"popularity\", \"genres\"), file=f)"
   ]
  },
  {
   "cell_type": "code",
   "execution_count": 16,
   "metadata": {
    "collapsed": true
   },
   "outputs": [],
   "source": [
    "with open(\"TVout.tsv\", \"a\") as f: #write all of our values in the lists\n",
    "    for x in range(len(shows)):\n",
    "        print (\"%s\\t%d\\t%f\\t%d\\t%d\\t%f\\t%s\" % (shows[x], ids[x], ratings[x], seasons[x], episodes[x], pops[x], genres[x]), file=f)"
   ]
  },
  {
   "cell_type": "markdown",
   "metadata": {},
   "source": [
    "Now we can access this data anytime by putting it into a pandas DataFrame object."
   ]
  },
  {
   "cell_type": "code",
   "execution_count": 5,
   "metadata": {},
   "outputs": [],
   "source": [
    "df1 = pd.DataFrame.from_csv(\"TVout.tsv\", sep='\\t')"
   ]
  },
  {
   "cell_type": "code",
   "execution_count": 6,
   "metadata": {},
   "outputs": [
    {
     "data": {
      "text/html": [
       "<div>\n",
       "<table border=\"1\" class=\"dataframe\">\n",
       "  <thead>\n",
       "    <tr style=\"text-align: right;\">\n",
       "      <th></th>\n",
       "      <th>tv_id</th>\n",
       "      <th>rating</th>\n",
       "      <th>seasons</th>\n",
       "      <th>episodes</th>\n",
       "      <th>popularity</th>\n",
       "      <th>genres</th>\n",
       "    </tr>\n",
       "    <tr>\n",
       "      <th>show</th>\n",
       "      <th></th>\n",
       "      <th></th>\n",
       "      <th></th>\n",
       "      <th></th>\n",
       "      <th></th>\n",
       "      <th></th>\n",
       "    </tr>\n",
       "  </thead>\n",
       "  <tbody>\n",
       "    <tr>\n",
       "      <th>Top Gear</th>\n",
       "      <td>45</td>\n",
       "      <td>7.5</td>\n",
       "      <td>24</td>\n",
       "      <td>176</td>\n",
       "      <td>33.498923</td>\n",
       "      <td>Documentary/Comedy/</td>\n",
       "    </tr>\n",
       "    <tr>\n",
       "      <th>That '70s Show</th>\n",
       "      <td>52</td>\n",
       "      <td>7.3</td>\n",
       "      <td>8</td>\n",
       "      <td>200</td>\n",
       "      <td>27.289507</td>\n",
       "      <td>Comedy/</td>\n",
       "    </tr>\n",
       "    <tr>\n",
       "      <th>Buffy the Vampire Slayer</th>\n",
       "      <td>95</td>\n",
       "      <td>8.0</td>\n",
       "      <td>7</td>\n",
       "      <td>144</td>\n",
       "      <td>20.664035</td>\n",
       "      <td>Comedy/Drama/Sci-Fi &amp; Fantasy/</td>\n",
       "    </tr>\n",
       "    <tr>\n",
       "      <th>Weeds</th>\n",
       "      <td>186</td>\n",
       "      <td>7.1</td>\n",
       "      <td>8</td>\n",
       "      <td>102</td>\n",
       "      <td>18.432312</td>\n",
       "      <td>Drama/Comedy/</td>\n",
       "    </tr>\n",
       "    <tr>\n",
       "      <th>Star Trek: Enterprise</th>\n",
       "      <td>314</td>\n",
       "      <td>7.4</td>\n",
       "      <td>4</td>\n",
       "      <td>98</td>\n",
       "      <td>18.592752</td>\n",
       "      <td>Action &amp; Adventure/Drama/Sci-Fi &amp; Fantasy/</td>\n",
       "    </tr>\n",
       "  </tbody>\n",
       "</table>\n",
       "</div>"
      ],
      "text/plain": [
       "                          tv_id  rating  seasons  episodes  popularity  \\\n",
       "show                                                                     \n",
       "Top Gear                     45     7.5       24       176   33.498923   \n",
       "That '70s Show               52     7.3        8       200   27.289507   \n",
       "Buffy the Vampire Slayer     95     8.0        7       144   20.664035   \n",
       "Weeds                       186     7.1        8       102   18.432312   \n",
       "Star Trek: Enterprise       314     7.4        4        98   18.592752   \n",
       "\n",
       "                                                              genres  \n",
       "show                                                                  \n",
       "Top Gear                                         Documentary/Comedy/  \n",
       "That '70s Show                                               Comedy/  \n",
       "Buffy the Vampire Slayer              Comedy/Drama/Sci-Fi & Fantasy/  \n",
       "Weeds                                                  Drama/Comedy/  \n",
       "Star Trek: Enterprise     Action & Adventure/Drama/Sci-Fi & Fantasy/  "
      ]
     },
     "execution_count": 6,
     "metadata": {},
     "output_type": "execute_result"
    }
   ],
   "source": [
    "df1.head()"
   ]
  },
  {
   "cell_type": "markdown",
   "metadata": {},
   "source": [
    "We can use this dataframe and separate how we see fit. Like getting only shows with 5 seasons"
   ]
  },
  {
   "cell_type": "code",
   "execution_count": 7,
   "metadata": {},
   "outputs": [],
   "source": [
    "five = df1[df1[\"seasons\"] == 5]"
   ]
  },
  {
   "cell_type": "code",
   "execution_count": 8,
   "metadata": {},
   "outputs": [
    {
     "data": {
      "text/html": [
       "<div>\n",
       "<table border=\"1\" class=\"dataframe\">\n",
       "  <thead>\n",
       "    <tr style=\"text-align: right;\">\n",
       "      <th></th>\n",
       "      <th>tv_id</th>\n",
       "      <th>rating</th>\n",
       "      <th>seasons</th>\n",
       "      <th>episodes</th>\n",
       "      <th>popularity</th>\n",
       "      <th>genres</th>\n",
       "    </tr>\n",
       "    <tr>\n",
       "      <th>show</th>\n",
       "      <th></th>\n",
       "      <th></th>\n",
       "      <th></th>\n",
       "      <th></th>\n",
       "      <th></th>\n",
       "      <th></th>\n",
       "    </tr>\n",
       "  </thead>\n",
       "  <tbody>\n",
       "    <tr>\n",
       "      <th>Six Feet Under</th>\n",
       "      <td>1274</td>\n",
       "      <td>8.2</td>\n",
       "      <td>5</td>\n",
       "      <td>63</td>\n",
       "      <td>15.665654</td>\n",
       "      <td>Drama/</td>\n",
       "    </tr>\n",
       "    <tr>\n",
       "      <th>Breaking Bad</th>\n",
       "      <td>1396</td>\n",
       "      <td>8.2</td>\n",
       "      <td>5</td>\n",
       "      <td>62</td>\n",
       "      <td>45.275608</td>\n",
       "      <td>Drama/</td>\n",
       "    </tr>\n",
       "    <tr>\n",
       "      <th>Marvel's Agents of S.H.I.E.L.D.</th>\n",
       "      <td>1403</td>\n",
       "      <td>6.7</td>\n",
       "      <td>5</td>\n",
       "      <td>106</td>\n",
       "      <td>64.841267</td>\n",
       "      <td>Fantasy/Drama/Action/Adventure/Science Fiction/</td>\n",
       "    </tr>\n",
       "    <tr>\n",
       "      <th>Chuck</th>\n",
       "      <td>1404</td>\n",
       "      <td>7.5</td>\n",
       "      <td>5</td>\n",
       "      <td>91</td>\n",
       "      <td>15.665384</td>\n",
       "      <td>Action &amp; Adventure/Comedy/Drama/</td>\n",
       "    </tr>\n",
       "    <tr>\n",
       "      <th>Person of Interest</th>\n",
       "      <td>1411</td>\n",
       "      <td>7.6</td>\n",
       "      <td>5</td>\n",
       "      <td>103</td>\n",
       "      <td>26.970550</td>\n",
       "      <td>Action/Adventure/Drama/Mystery/Thriller/</td>\n",
       "    </tr>\n",
       "    <tr>\n",
       "      <th>Elementary</th>\n",
       "      <td>1415</td>\n",
       "      <td>6.9</td>\n",
       "      <td>5</td>\n",
       "      <td>120</td>\n",
       "      <td>27.396723</td>\n",
       "      <td>Drama/Mystery/Crime/</td>\n",
       "    </tr>\n",
       "    <tr>\n",
       "      <th>Ray Donovan</th>\n",
       "      <td>1423</td>\n",
       "      <td>7.3</td>\n",
       "      <td>5</td>\n",
       "      <td>60</td>\n",
       "      <td>18.806580</td>\n",
       "      <td>Drama/</td>\n",
       "    </tr>\n",
       "    <tr>\n",
       "      <th>Orange Is the New Black</th>\n",
       "      <td>1424</td>\n",
       "      <td>7.4</td>\n",
       "      <td>5</td>\n",
       "      <td>65</td>\n",
       "      <td>21.535003</td>\n",
       "      <td>Comedy/Drama/</td>\n",
       "    </tr>\n",
       "    <tr>\n",
       "      <th>House of Cards</th>\n",
       "      <td>1425</td>\n",
       "      <td>8.1</td>\n",
       "      <td>5</td>\n",
       "      <td>65</td>\n",
       "      <td>32.350274</td>\n",
       "      <td>Drama/</td>\n",
       "    </tr>\n",
       "    <tr>\n",
       "      <th>The Wire</th>\n",
       "      <td>1438</td>\n",
       "      <td>8.2</td>\n",
       "      <td>5</td>\n",
       "      <td>60</td>\n",
       "      <td>20.021124</td>\n",
       "      <td>Drama/Crime/</td>\n",
       "    </tr>\n",
       "    <tr>\n",
       "      <th>Boardwalk Empire</th>\n",
       "      <td>1621</td>\n",
       "      <td>7.7</td>\n",
       "      <td>5</td>\n",
       "      <td>56</td>\n",
       "      <td>12.469265</td>\n",
       "      <td>Drama/Crime/</td>\n",
       "    </tr>\n",
       "    <tr>\n",
       "      <th>Fringe</th>\n",
       "      <td>1705</td>\n",
       "      <td>8.0</td>\n",
       "      <td>5</td>\n",
       "      <td>100</td>\n",
       "      <td>21.509805</td>\n",
       "      <td>Sci-Fi &amp; Fantasy/Drama/Mystery/</td>\n",
       "    </tr>\n",
       "    <tr>\n",
       "      <th>Prison Break</th>\n",
       "      <td>2288</td>\n",
       "      <td>7.5</td>\n",
       "      <td>5</td>\n",
       "      <td>88</td>\n",
       "      <td>38.702506</td>\n",
       "      <td>Action &amp; Adventure/Crime/Drama/</td>\n",
       "    </tr>\n",
       "    <tr>\n",
       "      <th>Stargate Atlantis</th>\n",
       "      <td>2290</td>\n",
       "      <td>7.8</td>\n",
       "      <td>5</td>\n",
       "      <td>100</td>\n",
       "      <td>14.303615</td>\n",
       "      <td>Action &amp; Adventure/Drama/Sci-Fi &amp; Fantasy/</td>\n",
       "    </tr>\n",
       "    <tr>\n",
       "      <th>Arrested Development</th>\n",
       "      <td>4589</td>\n",
       "      <td>8.1</td>\n",
       "      <td>5</td>\n",
       "      <td>68</td>\n",
       "      <td>25.168055</td>\n",
       "      <td>Comedy/</td>\n",
       "    </tr>\n",
       "  </tbody>\n",
       "</table>\n",
       "</div>"
      ],
      "text/plain": [
       "                                 tv_id  rating  seasons  episodes  popularity  \\\n",
       "show                                                                            \n",
       "Six Feet Under                    1274     8.2        5        63   15.665654   \n",
       "Breaking Bad                      1396     8.2        5        62   45.275608   \n",
       "Marvel's Agents of S.H.I.E.L.D.   1403     6.7        5       106   64.841267   \n",
       "Chuck                             1404     7.5        5        91   15.665384   \n",
       "Person of Interest                1411     7.6        5       103   26.970550   \n",
       "Elementary                        1415     6.9        5       120   27.396723   \n",
       "Ray Donovan                       1423     7.3        5        60   18.806580   \n",
       "Orange Is the New Black           1424     7.4        5        65   21.535003   \n",
       "House of Cards                    1425     8.1        5        65   32.350274   \n",
       "The Wire                          1438     8.2        5        60   20.021124   \n",
       "Boardwalk Empire                  1621     7.7        5        56   12.469265   \n",
       "Fringe                            1705     8.0        5       100   21.509805   \n",
       "Prison Break                      2288     7.5        5        88   38.702506   \n",
       "Stargate Atlantis                 2290     7.8        5       100   14.303615   \n",
       "Arrested Development              4589     8.1        5        68   25.168055   \n",
       "\n",
       "                                                                          genres  \n",
       "show                                                                              \n",
       "Six Feet Under                                                            Drama/  \n",
       "Breaking Bad                                                              Drama/  \n",
       "Marvel's Agents of S.H.I.E.L.D.  Fantasy/Drama/Action/Adventure/Science Fiction/  \n",
       "Chuck                                           Action & Adventure/Comedy/Drama/  \n",
       "Person of Interest                      Action/Adventure/Drama/Mystery/Thriller/  \n",
       "Elementary                                                  Drama/Mystery/Crime/  \n",
       "Ray Donovan                                                               Drama/  \n",
       "Orange Is the New Black                                            Comedy/Drama/  \n",
       "House of Cards                                                            Drama/  \n",
       "The Wire                                                            Drama/Crime/  \n",
       "Boardwalk Empire                                                    Drama/Crime/  \n",
       "Fringe                                           Sci-Fi & Fantasy/Drama/Mystery/  \n",
       "Prison Break                                     Action & Adventure/Crime/Drama/  \n",
       "Stargate Atlantis                     Action & Adventure/Drama/Sci-Fi & Fantasy/  \n",
       "Arrested Development                                                     Comedy/  "
      ]
     },
     "execution_count": 8,
     "metadata": {},
     "output_type": "execute_result"
    }
   ],
   "source": [
    "five"
   ]
  },
  {
   "cell_type": "markdown",
   "metadata": {},
   "source": [
    "Or shows that are strictly classified as comedy"
   ]
  },
  {
   "cell_type": "code",
   "execution_count": 9,
   "metadata": {},
   "outputs": [],
   "source": [
    "comedy = df1[df1[\"genres\"] == \"Comedy/\"]"
   ]
  },
  {
   "cell_type": "code",
   "execution_count": 10,
   "metadata": {},
   "outputs": [
    {
     "data": {
      "text/html": [
       "<div>\n",
       "<table border=\"1\" class=\"dataframe\">\n",
       "  <thead>\n",
       "    <tr style=\"text-align: right;\">\n",
       "      <th></th>\n",
       "      <th>tv_id</th>\n",
       "      <th>rating</th>\n",
       "      <th>seasons</th>\n",
       "      <th>episodes</th>\n",
       "      <th>popularity</th>\n",
       "      <th>genres</th>\n",
       "    </tr>\n",
       "    <tr>\n",
       "      <th>show</th>\n",
       "      <th></th>\n",
       "      <th></th>\n",
       "      <th></th>\n",
       "      <th></th>\n",
       "      <th></th>\n",
       "      <th></th>\n",
       "    </tr>\n",
       "  </thead>\n",
       "  <tbody>\n",
       "    <tr>\n",
       "      <th>That '70s Show</th>\n",
       "      <td>52</td>\n",
       "      <td>7.3</td>\n",
       "      <td>8</td>\n",
       "      <td>200</td>\n",
       "      <td>27.289507</td>\n",
       "      <td>Comedy/</td>\n",
       "    </tr>\n",
       "    <tr>\n",
       "      <th>How I Met Your Mother</th>\n",
       "      <td>1100</td>\n",
       "      <td>7.4</td>\n",
       "      <td>9</td>\n",
       "      <td>208</td>\n",
       "      <td>32.145424</td>\n",
       "      <td>Comedy/</td>\n",
       "    </tr>\n",
       "    <tr>\n",
       "      <th>Seinfeld</th>\n",
       "      <td>1400</td>\n",
       "      <td>8.2</td>\n",
       "      <td>9</td>\n",
       "      <td>193</td>\n",
       "      <td>27.224453</td>\n",
       "      <td>Comedy/</td>\n",
       "    </tr>\n",
       "    <tr>\n",
       "      <th>The Big Bang Theory</th>\n",
       "      <td>1418</td>\n",
       "      <td>6.9</td>\n",
       "      <td>11</td>\n",
       "      <td>254</td>\n",
       "      <td>220.309448</td>\n",
       "      <td>Comedy/</td>\n",
       "    </tr>\n",
       "    <tr>\n",
       "      <th>New Girl</th>\n",
       "      <td>1420</td>\n",
       "      <td>6.4</td>\n",
       "      <td>7</td>\n",
       "      <td>139</td>\n",
       "      <td>24.215878</td>\n",
       "      <td>Comedy/</td>\n",
       "    </tr>\n",
       "    <tr>\n",
       "      <th>Modern Family</th>\n",
       "      <td>1421</td>\n",
       "      <td>7.2</td>\n",
       "      <td>9</td>\n",
       "      <td>198</td>\n",
       "      <td>48.947379</td>\n",
       "      <td>Comedy/</td>\n",
       "    </tr>\n",
       "    <tr>\n",
       "      <th>Friends</th>\n",
       "      <td>1668</td>\n",
       "      <td>7.8</td>\n",
       "      <td>10</td>\n",
       "      <td>236</td>\n",
       "      <td>51.479031</td>\n",
       "      <td>Comedy/</td>\n",
       "    </tr>\n",
       "    <tr>\n",
       "      <th>The Fresh Prince of Bel-Air</th>\n",
       "      <td>1892</td>\n",
       "      <td>7.3</td>\n",
       "      <td>6</td>\n",
       "      <td>148</td>\n",
       "      <td>8.855756</td>\n",
       "      <td>Comedy/</td>\n",
       "    </tr>\n",
       "    <tr>\n",
       "      <th>Malcolm in the Middle</th>\n",
       "      <td>2004</td>\n",
       "      <td>7.4</td>\n",
       "      <td>7</td>\n",
       "      <td>151</td>\n",
       "      <td>15.092547</td>\n",
       "      <td>Comedy/</td>\n",
       "    </tr>\n",
       "    <tr>\n",
       "      <th>The Office</th>\n",
       "      <td>2316</td>\n",
       "      <td>7.9</td>\n",
       "      <td>9</td>\n",
       "      <td>195</td>\n",
       "      <td>24.058980</td>\n",
       "      <td>Comedy/</td>\n",
       "    </tr>\n",
       "    <tr>\n",
       "      <th>The IT Crowd</th>\n",
       "      <td>2490</td>\n",
       "      <td>8.1</td>\n",
       "      <td>4</td>\n",
       "      <td>24</td>\n",
       "      <td>16.562091</td>\n",
       "      <td>Comedy/</td>\n",
       "    </tr>\n",
       "    <tr>\n",
       "      <th>Two and a Half Men</th>\n",
       "      <td>2691</td>\n",
       "      <td>6.1</td>\n",
       "      <td>12</td>\n",
       "      <td>262</td>\n",
       "      <td>40.757220</td>\n",
       "      <td>Comedy/</td>\n",
       "    </tr>\n",
       "    <tr>\n",
       "      <th>It's Always Sunny in Philadelphia</th>\n",
       "      <td>2710</td>\n",
       "      <td>8.0</td>\n",
       "      <td>12</td>\n",
       "      <td>133</td>\n",
       "      <td>25.600534</td>\n",
       "      <td>Comedy/</td>\n",
       "    </tr>\n",
       "    <tr>\n",
       "      <th>Married... with Children</th>\n",
       "      <td>4239</td>\n",
       "      <td>7.4</td>\n",
       "      <td>11</td>\n",
       "      <td>259</td>\n",
       "      <td>21.805467</td>\n",
       "      <td>Comedy/</td>\n",
       "    </tr>\n",
       "    <tr>\n",
       "      <th>Arrested Development</th>\n",
       "      <td>4589</td>\n",
       "      <td>8.1</td>\n",
       "      <td>5</td>\n",
       "      <td>68</td>\n",
       "      <td>25.168055</td>\n",
       "      <td>Comedy/</td>\n",
       "    </tr>\n",
       "    <tr>\n",
       "      <th>Parks and Recreation</th>\n",
       "      <td>8592</td>\n",
       "      <td>7.6</td>\n",
       "      <td>7</td>\n",
       "      <td>125</td>\n",
       "      <td>26.267542</td>\n",
       "      <td>Comedy/</td>\n",
       "    </tr>\n",
       "    <tr>\n",
       "      <th>Community</th>\n",
       "      <td>18347</td>\n",
       "      <td>7.8</td>\n",
       "      <td>6</td>\n",
       "      <td>110</td>\n",
       "      <td>30.278715</td>\n",
       "      <td>Comedy/</td>\n",
       "    </tr>\n",
       "  </tbody>\n",
       "</table>\n",
       "</div>"
      ],
      "text/plain": [
       "                                   tv_id  rating  seasons  episodes  \\\n",
       "show                                                                  \n",
       "That '70s Show                        52     7.3        8       200   \n",
       "How I Met Your Mother               1100     7.4        9       208   \n",
       "Seinfeld                            1400     8.2        9       193   \n",
       "The Big Bang Theory                 1418     6.9       11       254   \n",
       "New Girl                            1420     6.4        7       139   \n",
       "Modern Family                       1421     7.2        9       198   \n",
       "Friends                             1668     7.8       10       236   \n",
       "The Fresh Prince of Bel-Air         1892     7.3        6       148   \n",
       "Malcolm in the Middle               2004     7.4        7       151   \n",
       "The Office                          2316     7.9        9       195   \n",
       "The IT Crowd                        2490     8.1        4        24   \n",
       "Two and a Half Men                  2691     6.1       12       262   \n",
       "It's Always Sunny in Philadelphia   2710     8.0       12       133   \n",
       "Married... with Children            4239     7.4       11       259   \n",
       "Arrested Development                4589     8.1        5        68   \n",
       "Parks and Recreation                8592     7.6        7       125   \n",
       "Community                          18347     7.8        6       110   \n",
       "\n",
       "                                   popularity   genres  \n",
       "show                                                    \n",
       "That '70s Show                      27.289507  Comedy/  \n",
       "How I Met Your Mother               32.145424  Comedy/  \n",
       "Seinfeld                            27.224453  Comedy/  \n",
       "The Big Bang Theory                220.309448  Comedy/  \n",
       "New Girl                            24.215878  Comedy/  \n",
       "Modern Family                       48.947379  Comedy/  \n",
       "Friends                             51.479031  Comedy/  \n",
       "The Fresh Prince of Bel-Air          8.855756  Comedy/  \n",
       "Malcolm in the Middle               15.092547  Comedy/  \n",
       "The Office                          24.058980  Comedy/  \n",
       "The IT Crowd                        16.562091  Comedy/  \n",
       "Two and a Half Men                  40.757220  Comedy/  \n",
       "It's Always Sunny in Philadelphia   25.600534  Comedy/  \n",
       "Married... with Children            21.805467  Comedy/  \n",
       "Arrested Development                25.168055  Comedy/  \n",
       "Parks and Recreation                26.267542  Comedy/  \n",
       "Community                           30.278715  Comedy/  "
      ]
     },
     "execution_count": 10,
     "metadata": {},
     "output_type": "execute_result"
    }
   ],
   "source": [
    "comedy"
   ]
  },
  {
   "cell_type": "markdown",
   "metadata": {},
   "source": [
    "### Some early basic visualization"
   ]
  },
  {
   "cell_type": "markdown",
   "metadata": {},
   "source": [
    "How does the data look just by taking into account the rating as dependent on the number of seasons a show has?"
   ]
  },
  {
   "cell_type": "code",
   "execution_count": 6,
   "metadata": {},
   "outputs": [
    {
     "data": {
      "image/png": "[encoded data removed]",
      "text/plain": [
       "<matplotlib.figure.Figure at 0x7f0c42f39630>"
      ]
     },
     "metadata": {},
     "output_type": "display_data"
    }
   ],
   "source": [
    "plt.scatter(df1.seasons, df1.rating)\n",
    "plt.show()"
   ]
  },
  {
   "cell_type": "markdown",
   "metadata": {},
   "source": [
    "The peak ratings seem to be at around the 5-7 seasons mark, but they also have some low ratings in that range as well.\n",
    "\n",
    "What about comedy?"
   ]
  },
  {
   "cell_type": "code",
   "execution_count": 11,
   "metadata": {},
   "outputs": [
    {
     "data": {
      "image/png": "[encoded data removed]",
      "text/plain": [
       "<matplotlib.figure.Figure at 0x7ffb42258438>"
      ]
     },
     "metadata": {},
     "output_type": "display_data"
    }
   ],
   "source": [
    "plt.scatter(comedy.seasons, comedy.rating)\n",
    "plt.show()"
   ]
  },
  {
   "cell_type": "markdown",
   "metadata": {},
   "source": [
    "### Some more in-depth analysis\n",
    "\n",
    "Our dataframe is somewhat messy, especially with the \"genre\" column. The data doesn't distinguish Action & Adventure/Comedy from Comedy/Action & Adventure and there are too many variations of similar genres which would make analysis on genres too difficult. Let's fix that by assigning genre ids based on the \"strongest\" genre in a show's \"genre\" column."
   ]
  },
  {
   "cell_type": "code",
   "execution_count": 12,
   "metadata": {},
   "outputs": [],
   "source": [
    "def genre_id(genre):\n",
    "    if \"Animation\" in genre:\n",
    "        return 2\n",
    "    if \"Action\" in genre and \"Adventure\" in genre:\n",
    "        return 0\n",
    "    if \"Comedy\" in genre and \"Drama\" in genre:\n",
    "        return 1\n",
    "    if \"Comedy\" in genre:\n",
    "        return 3\n",
    "    if \"Crime\" in genre and \"Drama\" in genre:\n",
    "        return 4\n",
    "    if \"Fantasy\" in genre or \"Sci\" in genre:\n",
    "        return 5\n",
    "    if \"Drama\" in genre:\n",
    "        return 6\n",
    "    return -1"
   ]
  },
  {
   "cell_type": "code",
   "execution_count": 13,
   "metadata": {},
   "outputs": [
    {
     "data": {
      "text/html": [
       "<div>\n",
       "<table border=\"1\" class=\"dataframe\">\n",
       "  <thead>\n",
       "    <tr style=\"text-align: right;\">\n",
       "      <th></th>\n",
       "      <th>tv_id</th>\n",
       "      <th>rating</th>\n",
       "      <th>seasons</th>\n",
       "      <th>episodes</th>\n",
       "      <th>popularity</th>\n",
       "      <th>genres</th>\n",
       "      <th>genre_id</th>\n",
       "    </tr>\n",
       "    <tr>\n",
       "      <th>show</th>\n",
       "      <th></th>\n",
       "      <th></th>\n",
       "      <th></th>\n",
       "      <th></th>\n",
       "      <th></th>\n",
       "      <th></th>\n",
       "      <th></th>\n",
       "    </tr>\n",
       "  </thead>\n",
       "  <tbody>\n",
       "    <tr>\n",
       "      <th>Top Gear</th>\n",
       "      <td>45</td>\n",
       "      <td>7.5</td>\n",
       "      <td>24</td>\n",
       "      <td>176</td>\n",
       "      <td>33.498923</td>\n",
       "      <td>Documentary/Comedy/</td>\n",
       "      <td>3</td>\n",
       "    </tr>\n",
       "    <tr>\n",
       "      <th>That '70s Show</th>\n",
       "      <td>52</td>\n",
       "      <td>7.3</td>\n",
       "      <td>8</td>\n",
       "      <td>200</td>\n",
       "      <td>27.289507</td>\n",
       "      <td>Comedy/</td>\n",
       "      <td>3</td>\n",
       "    </tr>\n",
       "    <tr>\n",
       "      <th>Buffy the Vampire Slayer</th>\n",
       "      <td>95</td>\n",
       "      <td>8.0</td>\n",
       "      <td>7</td>\n",
       "      <td>144</td>\n",
       "      <td>20.664035</td>\n",
       "      <td>Comedy/Drama/Sci-Fi &amp; Fantasy/</td>\n",
       "      <td>1</td>\n",
       "    </tr>\n",
       "    <tr>\n",
       "      <th>Weeds</th>\n",
       "      <td>186</td>\n",
       "      <td>7.1</td>\n",
       "      <td>8</td>\n",
       "      <td>102</td>\n",
       "      <td>18.432312</td>\n",
       "      <td>Drama/Comedy/</td>\n",
       "      <td>1</td>\n",
       "    </tr>\n",
       "    <tr>\n",
       "      <th>Star Trek: Enterprise</th>\n",
       "      <td>314</td>\n",
       "      <td>7.4</td>\n",
       "      <td>4</td>\n",
       "      <td>98</td>\n",
       "      <td>18.592752</td>\n",
       "      <td>Action &amp; Adventure/Drama/Sci-Fi &amp; Fantasy/</td>\n",
       "      <td>0</td>\n",
       "    </tr>\n",
       "  </tbody>\n",
       "</table>\n",
       "</div>"
      ],
      "text/plain": [
       "                          tv_id  rating  seasons  episodes  popularity  \\\n",
       "show                                                                     \n",
       "Top Gear                     45     7.5       24       176   33.498923   \n",
       "That '70s Show               52     7.3        8       200   27.289507   \n",
       "Buffy the Vampire Slayer     95     8.0        7       144   20.664035   \n",
       "Weeds                       186     7.1        8       102   18.432312   \n",
       "Star Trek: Enterprise       314     7.4        4        98   18.592752   \n",
       "\n",
       "                                                              genres  genre_id  \n",
       "show                                                                            \n",
       "Top Gear                                         Documentary/Comedy/         3  \n",
       "That '70s Show                                               Comedy/         3  \n",
       "Buffy the Vampire Slayer              Comedy/Drama/Sci-Fi & Fantasy/         1  \n",
       "Weeds                                                  Drama/Comedy/         1  \n",
       "Star Trek: Enterprise     Action & Adventure/Drama/Sci-Fi & Fantasy/         0  "
      ]
     },
     "execution_count": 13,
     "metadata": {},
     "output_type": "execute_result"
    }
   ],
   "source": [
    "genre_key = []\n",
    "for x in df1.genres:\n",
    "    genre_key.append(genre_id(x))\n",
    "    \n",
    "df1[\"genre_id\"] = genre_key\n",
    "df1.head()"
   ]
  },
  {
   "cell_type": "markdown",
   "metadata": {},
   "source": [
    "Now we can use the genre_id field to better model a show's predicted rating as a function of the number of seasons it has, its genre association, and its popularity on TMDb. We use the statmodel library's Ordinary Least Squares tool to generate all linear models from this point on"
   ]
  },
  {
   "cell_type": "code",
   "execution_count": 14,
   "metadata": {},
   "outputs": [
    {
     "data": {
      "text/html": [
       "<table class=\"simpletable\">\n",
       "<caption>OLS Regression Results</caption>\n",
       "<tr>\n",
       "  <th>Dep. Variable:</th>         <td>rating</td>      <th>  R-squared:         </th> <td>   0.256</td>\n",
       "</tr>\n",
       "<tr>\n",
       "  <th>Model:</th>                   <td>OLS</td>       <th>  Adj. R-squared:    </th> <td>   0.178</td>\n",
       "</tr>\n",
       "<tr>\n",
       "  <th>Method:</th>             <td>Least Squares</td>  <th>  F-statistic:       </th> <td>   3.287</td>\n",
       "</tr>\n",
       "<tr>\n",
       "  <th>Date:</th>             <td>Fri, 15 Dec 2017</td> <th>  Prob (F-statistic):</th>  <td>0.00460</td>\n",
       "</tr>\n",
       "<tr>\n",
       "  <th>Time:</th>                 <td>06:34:27</td>     <th>  Log-Likelihood:    </th> <td> -55.514</td>\n",
       "</tr>\n",
       "<tr>\n",
       "  <th>No. Observations:</th>      <td>    75</td>      <th>  AIC:               </th> <td>   127.0</td>\n",
       "</tr>\n",
       "<tr>\n",
       "  <th>Df Residuals:</th>          <td>    67</td>      <th>  BIC:               </th> <td>   145.6</td>\n",
       "</tr>\n",
       "<tr>\n",
       "  <th>Df Model:</th>              <td>     7</td>      <th>                     </th>     <td> </td>   \n",
       "</tr>\n",
       "<tr>\n",
       "  <th>Covariance Type:</th>      <td>nonrobust</td>    <th>                     </th>     <td> </td>   \n",
       "</tr>\n",
       "</table>\n",
       "<table class=\"simpletable\">\n",
       "<tr>\n",
       "               <td></td>                  <th>coef</th>     <th>std err</th>      <th>t</th>      <th>P>|t|</th>  <th>[0.025</th>    <th>0.975]</th>  \n",
       "</tr>\n",
       "<tr>\n",
       "  <th>Intercept</th>                   <td>    7.8449</td> <td>    0.525</td> <td>   14.957</td> <td> 0.000</td> <td>    6.798</td> <td>    8.892</td>\n",
       "</tr>\n",
       "<tr>\n",
       "  <th>seasons</th>                     <td>   -0.0280</td> <td>    0.072</td> <td>   -0.390</td> <td> 0.698</td> <td>   -0.172</td> <td>    0.115</td>\n",
       "</tr>\n",
       "<tr>\n",
       "  <th>genre_id</th>                    <td>    0.0531</td> <td>    0.200</td> <td>    0.266</td> <td> 0.791</td> <td>   -0.346</td> <td>    0.452</td>\n",
       "</tr>\n",
       "<tr>\n",
       "  <th>popularity</th>                  <td>   -0.0090</td> <td>    0.009</td> <td>   -1.001</td> <td> 0.321</td> <td>   -0.027</td> <td>    0.009</td>\n",
       "</tr>\n",
       "<tr>\n",
       "  <th>popularity:seasons</th>          <td>    0.0008</td> <td>    0.001</td> <td>    0.705</td> <td> 0.483</td> <td>   -0.001</td> <td>    0.003</td>\n",
       "</tr>\n",
       "<tr>\n",
       "  <th>popularity:genre_id</th>         <td>    0.0017</td> <td>    0.005</td> <td>    0.374</td> <td> 0.710</td> <td>   -0.007</td> <td>    0.011</td>\n",
       "</tr>\n",
       "<tr>\n",
       "  <th>seasons:genre_id</th>            <td>   -0.0059</td> <td>    0.027</td> <td>   -0.220</td> <td> 0.827</td> <td>   -0.059</td> <td>    0.048</td>\n",
       "</tr>\n",
       "<tr>\n",
       "  <th>popularity:seasons:genre_id</th> <td>   -0.0003</td> <td>    0.001</td> <td>   -0.529</td> <td> 0.598</td> <td>   -0.001</td> <td>    0.001</td>\n",
       "</tr>\n",
       "</table>\n",
       "<table class=\"simpletable\">\n",
       "<tr>\n",
       "  <th>Omnibus:</th>       <td> 4.458</td> <th>  Durbin-Watson:     </th> <td>   1.962</td>\n",
       "</tr>\n",
       "<tr>\n",
       "  <th>Prob(Omnibus):</th> <td> 0.108</td> <th>  Jarque-Bera (JB):  </th> <td>   4.410</td>\n",
       "</tr>\n",
       "<tr>\n",
       "  <th>Skew:</th>          <td>-0.557</td> <th>  Prob(JB):          </th> <td>   0.110</td>\n",
       "</tr>\n",
       "<tr>\n",
       "  <th>Kurtosis:</th>      <td> 2.587</td> <th>  Cond. No.          </th> <td>1.87e+04</td>\n",
       "</tr>\n",
       "</table>"
      ],
      "text/plain": [
       "<class 'statsmodels.iolib.summary.Summary'>\n",
       "\"\"\"\n",
       "                            OLS Regression Results                            \n",
       "==============================================================================\n",
       "Dep. Variable:                 rating   R-squared:                       0.256\n",
       "Model:                            OLS   Adj. R-squared:                  0.178\n",
       "Method:                 Least Squares   F-statistic:                     3.287\n",
       "Date:                Fri, 15 Dec 2017   Prob (F-statistic):            0.00460\n",
       "Time:                        06:34:27   Log-Likelihood:                -55.514\n",
       "No. Observations:                  75   AIC:                             127.0\n",
       "Df Residuals:                      67   BIC:                             145.6\n",
       "Df Model:                           7                                         \n",
       "Covariance Type:            nonrobust                                         \n",
       "===============================================================================================\n",
       "                                  coef    std err          t      P>|t|      [0.025      0.975]\n",
       "-----------------------------------------------------------------------------------------------\n",
       "Intercept                       7.8449      0.525     14.957      0.000       6.798       8.892\n",
       "seasons                        -0.0280      0.072     -0.390      0.698      -0.172       0.115\n",
       "genre_id                        0.0531      0.200      0.266      0.791      -0.346       0.452\n",
       "popularity                     -0.0090      0.009     -1.001      0.321      -0.027       0.009\n",
       "popularity:seasons              0.0008      0.001      0.705      0.483      -0.001       0.003\n",
       "popularity:genre_id             0.0017      0.005      0.374      0.710      -0.007       0.011\n",
       "seasons:genre_id               -0.0059      0.027     -0.220      0.827      -0.059       0.048\n",
       "popularity:seasons:genre_id    -0.0003      0.001     -0.529      0.598      -0.001       0.001\n",
       "==============================================================================\n",
       "Omnibus:                        4.458   Durbin-Watson:                   1.962\n",
       "Prob(Omnibus):                  0.108   Jarque-Bera (JB):                4.410\n",
       "Skew:                          -0.557   Prob(JB):                        0.110\n",
       "Kurtosis:                       2.587   Cond. No.                     1.87e+04\n",
       "==============================================================================\n",
       "\n",
       "Warnings:\n",
       "[1] Standard Errors assume that the covariance matrix of the errors is correctly specified.\n",
       "[2] The condition number is large, 1.87e+04. This might indicate that there are\n",
       "strong multicollinearity or other numerical problems.\n",
       "\"\"\""
      ]
     },
     "execution_count": 14,
     "metadata": {},
     "output_type": "execute_result"
    }
   ],
   "source": [
    "model = sm.OLS.from_formula('rating ~ seasons + genre_id + popularity + popularity * seasons * genre_id', data=df1)\n",
    "results = model.fit()\n",
    "results.summary()"
   ]
  },
  {
   "cell_type": "markdown",
   "metadata": {},
   "source": [
    "Predict a tv shows rating as a function of the number of seasons, its genre, and popularity. Let's add the predicted rating field to our dataframe"
   ]
  },
  {
   "cell_type": "code",
   "execution_count": 15,
   "metadata": {},
   "outputs": [
    {
     "data": {
      "text/html": [
       "<div>\n",
       "<table border=\"1\" class=\"dataframe\">\n",
       "  <thead>\n",
       "    <tr style=\"text-align: right;\">\n",
       "      <th></th>\n",
       "      <th>tv_id</th>\n",
       "      <th>rating</th>\n",
       "      <th>seasons</th>\n",
       "      <th>episodes</th>\n",
       "      <th>popularity</th>\n",
       "      <th>genres</th>\n",
       "      <th>genre_id</th>\n",
       "      <th>predicted_rating</th>\n",
       "    </tr>\n",
       "    <tr>\n",
       "      <th>show</th>\n",
       "      <th></th>\n",
       "      <th></th>\n",
       "      <th></th>\n",
       "      <th></th>\n",
       "      <th></th>\n",
       "      <th></th>\n",
       "      <th></th>\n",
       "      <th></th>\n",
       "    </tr>\n",
       "  </thead>\n",
       "  <tbody>\n",
       "    <tr>\n",
       "      <th>Top Gear</th>\n",
       "      <td>45</td>\n",
       "      <td>7.5</td>\n",
       "      <td>24</td>\n",
       "      <td>176</td>\n",
       "      <td>33.498923</td>\n",
       "      <td>Documentary/Comedy/</td>\n",
       "      <td>3</td>\n",
       "      <td>6.750459</td>\n",
       "    </tr>\n",
       "    <tr>\n",
       "      <th>That '70s Show</th>\n",
       "      <td>52</td>\n",
       "      <td>7.3</td>\n",
       "      <td>8</td>\n",
       "      <td>200</td>\n",
       "      <td>27.289507</td>\n",
       "      <td>Comedy/</td>\n",
       "      <td>3</td>\n",
       "      <td>7.525510</td>\n",
       "    </tr>\n",
       "    <tr>\n",
       "      <th>Buffy the Vampire Slayer</th>\n",
       "      <td>95</td>\n",
       "      <td>8.0</td>\n",
       "      <td>7</td>\n",
       "      <td>144</td>\n",
       "      <td>20.664035</td>\n",
       "      <td>Comedy/Drama/Sci-Fi &amp; Fantasy/</td>\n",
       "      <td>1</td>\n",
       "      <td>7.583618</td>\n",
       "    </tr>\n",
       "    <tr>\n",
       "      <th>Weeds</th>\n",
       "      <td>186</td>\n",
       "      <td>7.1</td>\n",
       "      <td>8</td>\n",
       "      <td>102</td>\n",
       "      <td>18.432312</td>\n",
       "      <td>Drama/Comedy/</td>\n",
       "      <td>1</td>\n",
       "      <td>7.567429</td>\n",
       "    </tr>\n",
       "    <tr>\n",
       "      <th>Star Trek: Enterprise</th>\n",
       "      <td>314</td>\n",
       "      <td>7.4</td>\n",
       "      <td>4</td>\n",
       "      <td>98</td>\n",
       "      <td>18.592752</td>\n",
       "      <td>Action &amp; Adventure/Drama/Sci-Fi &amp; Fantasy/</td>\n",
       "      <td>0</td>\n",
       "      <td>7.623380</td>\n",
       "    </tr>\n",
       "  </tbody>\n",
       "</table>\n",
       "</div>"
      ],
      "text/plain": [
       "                          tv_id  rating  seasons  episodes  popularity  \\\n",
       "show                                                                     \n",
       "Top Gear                     45     7.5       24       176   33.498923   \n",
       "That '70s Show               52     7.3        8       200   27.289507   \n",
       "Buffy the Vampire Slayer     95     8.0        7       144   20.664035   \n",
       "Weeds                       186     7.1        8       102   18.432312   \n",
       "Star Trek: Enterprise       314     7.4        4        98   18.592752   \n",
       "\n",
       "                                                              genres  \\\n",
       "show                                                                   \n",
       "Top Gear                                         Documentary/Comedy/   \n",
       "That '70s Show                                               Comedy/   \n",
       "Buffy the Vampire Slayer              Comedy/Drama/Sci-Fi & Fantasy/   \n",
       "Weeds                                                  Drama/Comedy/   \n",
       "Star Trek: Enterprise     Action & Adventure/Drama/Sci-Fi & Fantasy/   \n",
       "\n",
       "                          genre_id  predicted_rating  \n",
       "show                                                  \n",
       "Top Gear                         3          6.750459  \n",
       "That '70s Show                   3          7.525510  \n",
       "Buffy the Vampire Slayer         1          7.583618  \n",
       "Weeds                            1          7.567429  \n",
       "Star Trek: Enterprise            0          7.623380  "
      ]
     },
     "execution_count": 15,
     "metadata": {},
     "output_type": "execute_result"
    }
   ],
   "source": [
    "ols_predict = results.fittedvalues\n",
    "df1[\"predicted_rating\"] = ols_predict \n",
    "df1.head()"
   ]
  },
  {
   "cell_type": "markdown",
   "metadata": {},
   "source": [
    "In linear regression, residuals are the difference between data's actual value and it's expected value. Let's calculate them and add them."
   ]
  },
  {
   "cell_type": "code",
   "execution_count": 16,
   "metadata": {},
   "outputs": [
    {
     "data": {
      "text/html": [
       "<div>\n",
       "<table border=\"1\" class=\"dataframe\">\n",
       "  <thead>\n",
       "    <tr style=\"text-align: right;\">\n",
       "      <th></th>\n",
       "      <th>tv_id</th>\n",
       "      <th>rating</th>\n",
       "      <th>seasons</th>\n",
       "      <th>episodes</th>\n",
       "      <th>popularity</th>\n",
       "      <th>genres</th>\n",
       "      <th>genre_id</th>\n",
       "      <th>predicted_rating</th>\n",
       "      <th>ols_residuals</th>\n",
       "    </tr>\n",
       "    <tr>\n",
       "      <th>show</th>\n",
       "      <th></th>\n",
       "      <th></th>\n",
       "      <th></th>\n",
       "      <th></th>\n",
       "      <th></th>\n",
       "      <th></th>\n",
       "      <th></th>\n",
       "      <th></th>\n",
       "      <th></th>\n",
       "    </tr>\n",
       "  </thead>\n",
       "  <tbody>\n",
       "    <tr>\n",
       "      <th>Top Gear</th>\n",
       "      <td>45</td>\n",
       "      <td>7.5</td>\n",
       "      <td>24</td>\n",
       "      <td>176</td>\n",
       "      <td>33.498923</td>\n",
       "      <td>Documentary/Comedy/</td>\n",
       "      <td>3</td>\n",
       "      <td>6.750459</td>\n",
       "      <td>0.749541</td>\n",
       "    </tr>\n",
       "    <tr>\n",
       "      <th>That '70s Show</th>\n",
       "      <td>52</td>\n",
       "      <td>7.3</td>\n",
       "      <td>8</td>\n",
       "      <td>200</td>\n",
       "      <td>27.289507</td>\n",
       "      <td>Comedy/</td>\n",
       "      <td>3</td>\n",
       "      <td>7.525510</td>\n",
       "      <td>-0.225510</td>\n",
       "    </tr>\n",
       "    <tr>\n",
       "      <th>Buffy the Vampire Slayer</th>\n",
       "      <td>95</td>\n",
       "      <td>8.0</td>\n",
       "      <td>7</td>\n",
       "      <td>144</td>\n",
       "      <td>20.664035</td>\n",
       "      <td>Comedy/Drama/Sci-Fi &amp; Fantasy/</td>\n",
       "      <td>1</td>\n",
       "      <td>7.583618</td>\n",
       "      <td>0.416382</td>\n",
       "    </tr>\n",
       "    <tr>\n",
       "      <th>Weeds</th>\n",
       "      <td>186</td>\n",
       "      <td>7.1</td>\n",
       "      <td>8</td>\n",
       "      <td>102</td>\n",
       "      <td>18.432312</td>\n",
       "      <td>Drama/Comedy/</td>\n",
       "      <td>1</td>\n",
       "      <td>7.567429</td>\n",
       "      <td>-0.467429</td>\n",
       "    </tr>\n",
       "    <tr>\n",
       "      <th>Star Trek: Enterprise</th>\n",
       "      <td>314</td>\n",
       "      <td>7.4</td>\n",
       "      <td>4</td>\n",
       "      <td>98</td>\n",
       "      <td>18.592752</td>\n",
       "      <td>Action &amp; Adventure/Drama/Sci-Fi &amp; Fantasy/</td>\n",
       "      <td>0</td>\n",
       "      <td>7.623380</td>\n",
       "      <td>-0.223380</td>\n",
       "    </tr>\n",
       "  </tbody>\n",
       "</table>\n",
       "</div>"
      ],
      "text/plain": [
       "                          tv_id  rating  seasons  episodes  popularity  \\\n",
       "show                                                                     \n",
       "Top Gear                     45     7.5       24       176   33.498923   \n",
       "That '70s Show               52     7.3        8       200   27.289507   \n",
       "Buffy the Vampire Slayer     95     8.0        7       144   20.664035   \n",
       "Weeds                       186     7.1        8       102   18.432312   \n",
       "Star Trek: Enterprise       314     7.4        4        98   18.592752   \n",
       "\n",
       "                                                              genres  \\\n",
       "show                                                                   \n",
       "Top Gear                                         Documentary/Comedy/   \n",
       "That '70s Show                                               Comedy/   \n",
       "Buffy the Vampire Slayer              Comedy/Drama/Sci-Fi & Fantasy/   \n",
       "Weeds                                                  Drama/Comedy/   \n",
       "Star Trek: Enterprise     Action & Adventure/Drama/Sci-Fi & Fantasy/   \n",
       "\n",
       "                          genre_id  predicted_rating  ols_residuals  \n",
       "show                                                                 \n",
       "Top Gear                         3          6.750459       0.749541  \n",
       "That '70s Show                   3          7.525510      -0.225510  \n",
       "Buffy the Vampire Slayer         1          7.583618       0.416382  \n",
       "Weeds                            1          7.567429      -0.467429  \n",
       "Star Trek: Enterprise            0          7.623380      -0.223380  "
      ]
     },
     "execution_count": 16,
     "metadata": {},
     "output_type": "execute_result"
    }
   ],
   "source": [
    "df1['ols_residuals'] = df1['rating'] - df1['predicted_rating']\n",
    "df1.head()"
   ]
  },
  {
   "cell_type": "markdown",
   "metadata": {},
   "source": [
    "Now we model a show's expected number of seasons as a function of user rating, it's genre, and popularity."
   ]
  },
  {
   "cell_type": "code",
   "execution_count": 17,
   "metadata": {},
   "outputs": [
    {
     "data": {
      "text/html": [
       "<table class=\"simpletable\">\n",
       "<caption>OLS Regression Results</caption>\n",
       "<tr>\n",
       "  <th>Dep. Variable:</th>         <td>seasons</td>     <th>  R-squared:         </th> <td>   0.283</td>\n",
       "</tr>\n",
       "<tr>\n",
       "  <th>Model:</th>                   <td>OLS</td>       <th>  Adj. R-squared:    </th> <td>   0.209</td>\n",
       "</tr>\n",
       "<tr>\n",
       "  <th>Method:</th>             <td>Least Squares</td>  <th>  F-statistic:       </th> <td>   3.785</td>\n",
       "</tr>\n",
       "<tr>\n",
       "  <th>Date:</th>             <td>Fri, 15 Dec 2017</td> <th>  Prob (F-statistic):</th>  <td>0.00162</td>\n",
       "</tr>\n",
       "<tr>\n",
       "  <th>Time:</th>                 <td>06:41:18</td>     <th>  Log-Likelihood:    </th> <td> -209.09</td>\n",
       "</tr>\n",
       "<tr>\n",
       "  <th>No. Observations:</th>      <td>    75</td>      <th>  AIC:               </th> <td>   434.2</td>\n",
       "</tr>\n",
       "<tr>\n",
       "  <th>Df Residuals:</th>          <td>    67</td>      <th>  BIC:               </th> <td>   452.7</td>\n",
       "</tr>\n",
       "<tr>\n",
       "  <th>Df Model:</th>              <td>     7</td>      <th>                     </th>     <td> </td>   \n",
       "</tr>\n",
       "<tr>\n",
       "  <th>Covariance Type:</th>      <td>nonrobust</td>    <th>                     </th>     <td> </td>   \n",
       "</tr>\n",
       "</table>\n",
       "<table class=\"simpletable\">\n",
       "<tr>\n",
       "               <td></td>                 <th>coef</th>     <th>std err</th>      <th>t</th>      <th>P>|t|</th>  <th>[0.025</th>    <th>0.975]</th>  \n",
       "</tr>\n",
       "<tr>\n",
       "  <th>Intercept</th>                  <td>   36.0550</td> <td>   32.413</td> <td>    1.112</td> <td> 0.270</td> <td>  -28.641</td> <td>  100.751</td>\n",
       "</tr>\n",
       "<tr>\n",
       "  <th>rating</th>                     <td>   -3.7913</td> <td>    4.285</td> <td>   -0.885</td> <td> 0.379</td> <td>  -12.344</td> <td>    4.761</td>\n",
       "</tr>\n",
       "<tr>\n",
       "  <th>genre_id</th>                   <td>   -2.3662</td> <td>    9.139</td> <td>   -0.259</td> <td> 0.796</td> <td>  -20.607</td> <td>   15.875</td>\n",
       "</tr>\n",
       "<tr>\n",
       "  <th>popularity</th>                 <td>   -0.3411</td> <td>    0.558</td> <td>   -0.611</td> <td> 0.543</td> <td>   -1.455</td> <td>    0.773</td>\n",
       "</tr>\n",
       "<tr>\n",
       "  <th>popularity:rating</th>          <td>    0.0488</td> <td>    0.075</td> <td>    0.648</td> <td> 0.519</td> <td>   -0.102</td> <td>    0.199</td>\n",
       "</tr>\n",
       "<tr>\n",
       "  <th>popularity:genre_id</th>        <td>    0.0656</td> <td>    0.172</td> <td>    0.381</td> <td> 0.704</td> <td>   -0.278</td> <td>    0.409</td>\n",
       "</tr>\n",
       "<tr>\n",
       "  <th>rating:genre_id</th>            <td>    0.2466</td> <td>    1.204</td> <td>    0.205</td> <td> 0.838</td> <td>   -2.157</td> <td>    2.651</td>\n",
       "</tr>\n",
       "<tr>\n",
       "  <th>popularity:rating:genre_id</th> <td>   -0.0067</td> <td>    0.023</td> <td>   -0.286</td> <td> 0.776</td> <td>   -0.053</td> <td>    0.040</td>\n",
       "</tr>\n",
       "</table>\n",
       "<table class=\"simpletable\">\n",
       "<tr>\n",
       "  <th>Omnibus:</th>       <td>40.833</td> <th>  Durbin-Watson:     </th> <td>   1.663</td>\n",
       "</tr>\n",
       "<tr>\n",
       "  <th>Prob(Omnibus):</th> <td> 0.000</td> <th>  Jarque-Bera (JB):  </th> <td> 118.317</td>\n",
       "</tr>\n",
       "<tr>\n",
       "  <th>Skew:</th>          <td> 1.756</td> <th>  Prob(JB):          </th> <td>2.03e-26</td>\n",
       "</tr>\n",
       "<tr>\n",
       "  <th>Kurtosis:</th>      <td> 8.053</td> <th>  Cond. No.          </th> <td>8.01e+04</td>\n",
       "</tr>\n",
       "</table>"
      ],
      "text/plain": [
       "<class 'statsmodels.iolib.summary.Summary'>\n",
       "\"\"\"\n",
       "                            OLS Regression Results                            \n",
       "==============================================================================\n",
       "Dep. Variable:                seasons   R-squared:                       0.283\n",
       "Model:                            OLS   Adj. R-squared:                  0.209\n",
       "Method:                 Least Squares   F-statistic:                     3.785\n",
       "Date:                Fri, 15 Dec 2017   Prob (F-statistic):            0.00162\n",
       "Time:                        06:41:18   Log-Likelihood:                -209.09\n",
       "No. Observations:                  75   AIC:                             434.2\n",
       "Df Residuals:                      67   BIC:                             452.7\n",
       "Df Model:                           7                                         \n",
       "Covariance Type:            nonrobust                                         \n",
       "==============================================================================================\n",
       "                                 coef    std err          t      P>|t|      [0.025      0.975]\n",
       "----------------------------------------------------------------------------------------------\n",
       "Intercept                     36.0550     32.413      1.112      0.270     -28.641     100.751\n",
       "rating                        -3.7913      4.285     -0.885      0.379     -12.344       4.761\n",
       "genre_id                      -2.3662      9.139     -0.259      0.796     -20.607      15.875\n",
       "popularity                    -0.3411      0.558     -0.611      0.543      -1.455       0.773\n",
       "popularity:rating              0.0488      0.075      0.648      0.519      -0.102       0.199\n",
       "popularity:genre_id            0.0656      0.172      0.381      0.704      -0.278       0.409\n",
       "rating:genre_id                0.2466      1.204      0.205      0.838      -2.157       2.651\n",
       "popularity:rating:genre_id    -0.0067      0.023     -0.286      0.776      -0.053       0.040\n",
       "==============================================================================\n",
       "Omnibus:                       40.833   Durbin-Watson:                   1.663\n",
       "Prob(Omnibus):                  0.000   Jarque-Bera (JB):              118.317\n",
       "Skew:                           1.756   Prob(JB):                     2.03e-26\n",
       "Kurtosis:                       8.053   Cond. No.                     8.01e+04\n",
       "==============================================================================\n",
       "\n",
       "Warnings:\n",
       "[1] Standard Errors assume that the covariance matrix of the errors is correctly specified.\n",
       "[2] The condition number is large, 8.01e+04. This might indicate that there are\n",
       "strong multicollinearity or other numerical problems.\n",
       "\"\"\""
      ]
     },
     "execution_count": 17,
     "metadata": {},
     "output_type": "execute_result"
    }
   ],
   "source": [
    "model = sm.OLS.from_formula('seasons ~ rating + genre_id + popularity + popularity * rating * genre_id', data=df1)\n",
    "results = model.fit()\n",
    "results.summary()"
   ]
  },
  {
   "cell_type": "code",
   "execution_count": 18,
   "metadata": {},
   "outputs": [
    {
     "data": {
      "text/html": [
       "<div>\n",
       "<table border=\"1\" class=\"dataframe\">\n",
       "  <thead>\n",
       "    <tr style=\"text-align: right;\">\n",
       "      <th></th>\n",
       "      <th>tv_id</th>\n",
       "      <th>rating</th>\n",
       "      <th>seasons</th>\n",
       "      <th>episodes</th>\n",
       "      <th>popularity</th>\n",
       "      <th>genres</th>\n",
       "      <th>genre_id</th>\n",
       "      <th>predicted_rating</th>\n",
       "      <th>ols_residuals</th>\n",
       "      <th>predicted_seasons</th>\n",
       "    </tr>\n",
       "    <tr>\n",
       "      <th>show</th>\n",
       "      <th></th>\n",
       "      <th></th>\n",
       "      <th></th>\n",
       "      <th></th>\n",
       "      <th></th>\n",
       "      <th></th>\n",
       "      <th></th>\n",
       "      <th></th>\n",
       "      <th></th>\n",
       "      <th></th>\n",
       "    </tr>\n",
       "  </thead>\n",
       "  <tbody>\n",
       "    <tr>\n",
       "      <th>Top Gear</th>\n",
       "      <td>45</td>\n",
       "      <td>7.5</td>\n",
       "      <td>24</td>\n",
       "      <td>176</td>\n",
       "      <td>33.498923</td>\n",
       "      <td>Documentary/Comedy/</td>\n",
       "      <td>3</td>\n",
       "      <td>6.750459</td>\n",
       "      <td>0.749541</td>\n",
       "      <td>8.453809</td>\n",
       "    </tr>\n",
       "    <tr>\n",
       "      <th>That '70s Show</th>\n",
       "      <td>52</td>\n",
       "      <td>7.3</td>\n",
       "      <td>8</td>\n",
       "      <td>200</td>\n",
       "      <td>27.289507</td>\n",
       "      <td>Comedy/</td>\n",
       "      <td>3</td>\n",
       "      <td>7.525510</td>\n",
       "      <td>-0.225510</td>\n",
       "      <td>8.465755</td>\n",
       "    </tr>\n",
       "    <tr>\n",
       "      <th>Buffy the Vampire Slayer</th>\n",
       "      <td>95</td>\n",
       "      <td>8.0</td>\n",
       "      <td>7</td>\n",
       "      <td>144</td>\n",
       "      <td>20.664035</td>\n",
       "      <td>Comedy/Drama/Sci-Fi &amp; Fantasy/</td>\n",
       "      <td>1</td>\n",
       "      <td>7.583618</td>\n",
       "      <td>0.416382</td>\n",
       "      <td>6.595649</td>\n",
       "    </tr>\n",
       "    <tr>\n",
       "      <th>Weeds</th>\n",
       "      <td>186</td>\n",
       "      <td>7.1</td>\n",
       "      <td>8</td>\n",
       "      <td>102</td>\n",
       "      <td>18.432312</td>\n",
       "      <td>Drama/Comedy/</td>\n",
       "      <td>1</td>\n",
       "      <td>7.567429</td>\n",
       "      <td>-0.467429</td>\n",
       "      <td>8.951229</td>\n",
       "    </tr>\n",
       "    <tr>\n",
       "      <th>Star Trek: Enterprise</th>\n",
       "      <td>314</td>\n",
       "      <td>7.4</td>\n",
       "      <td>4</td>\n",
       "      <td>98</td>\n",
       "      <td>18.592752</td>\n",
       "      <td>Action &amp; Adventure/Drama/Sci-Fi &amp; Fantasy/</td>\n",
       "      <td>0</td>\n",
       "      <td>7.623380</td>\n",
       "      <td>-0.223380</td>\n",
       "      <td>8.366738</td>\n",
       "    </tr>\n",
       "  </tbody>\n",
       "</table>\n",
       "</div>"
      ],
      "text/plain": [
       "                          tv_id  rating  seasons  episodes  popularity  \\\n",
       "show                                                                     \n",
       "Top Gear                     45     7.5       24       176   33.498923   \n",
       "That '70s Show               52     7.3        8       200   27.289507   \n",
       "Buffy the Vampire Slayer     95     8.0        7       144   20.664035   \n",
       "Weeds                       186     7.1        8       102   18.432312   \n",
       "Star Trek: Enterprise       314     7.4        4        98   18.592752   \n",
       "\n",
       "                                                              genres  \\\n",
       "show                                                                   \n",
       "Top Gear                                         Documentary/Comedy/   \n",
       "That '70s Show                                               Comedy/   \n",
       "Buffy the Vampire Slayer              Comedy/Drama/Sci-Fi & Fantasy/   \n",
       "Weeds                                                  Drama/Comedy/   \n",
       "Star Trek: Enterprise     Action & Adventure/Drama/Sci-Fi & Fantasy/   \n",
       "\n",
       "                          genre_id  predicted_rating  ols_residuals  \\\n",
       "show                                                                  \n",
       "Top Gear                         3          6.750459       0.749541   \n",
       "That '70s Show                   3          7.525510      -0.225510   \n",
       "Buffy the Vampire Slayer         1          7.583618       0.416382   \n",
       "Weeds                            1          7.567429      -0.467429   \n",
       "Star Trek: Enterprise            0          7.623380      -0.223380   \n",
       "\n",
       "                          predicted_seasons  \n",
       "show                                         \n",
       "Top Gear                           8.453809  \n",
       "That '70s Show                     8.465755  \n",
       "Buffy the Vampire Slayer           6.595649  \n",
       "Weeds                              8.951229  \n",
       "Star Trek: Enterprise              8.366738  "
      ]
     },
     "execution_count": 18,
     "metadata": {},
     "output_type": "execute_result"
    }
   ],
   "source": [
    "ols_predict = results.fittedvalues\n",
    "df1[\"predicted_seasons\"] = ols_predict\n",
    "df1.head()"
   ]
  },
  {
   "cell_type": "code",
   "execution_count": 19,
   "metadata": {},
   "outputs": [
    {
     "data": {
      "text/html": [
       "<div>\n",
       "<table border=\"1\" class=\"dataframe\">\n",
       "  <thead>\n",
       "    <tr style=\"text-align: right;\">\n",
       "      <th></th>\n",
       "      <th>tv_id</th>\n",
       "      <th>rating</th>\n",
       "      <th>seasons</th>\n",
       "      <th>episodes</th>\n",
       "      <th>popularity</th>\n",
       "      <th>genres</th>\n",
       "      <th>genre_id</th>\n",
       "      <th>predicted_rating</th>\n",
       "      <th>ols_residuals</th>\n",
       "      <th>predicted_seasons</th>\n",
       "      <th>seasons_residuals</th>\n",
       "    </tr>\n",
       "    <tr>\n",
       "      <th>show</th>\n",
       "      <th></th>\n",
       "      <th></th>\n",
       "      <th></th>\n",
       "      <th></th>\n",
       "      <th></th>\n",
       "      <th></th>\n",
       "      <th></th>\n",
       "      <th></th>\n",
       "      <th></th>\n",
       "      <th></th>\n",
       "      <th></th>\n",
       "    </tr>\n",
       "  </thead>\n",
       "  <tbody>\n",
       "    <tr>\n",
       "      <th>Top Gear</th>\n",
       "      <td>45</td>\n",
       "      <td>7.5</td>\n",
       "      <td>24</td>\n",
       "      <td>176</td>\n",
       "      <td>33.498923</td>\n",
       "      <td>Documentary/Comedy/</td>\n",
       "      <td>3</td>\n",
       "      <td>6.750459</td>\n",
       "      <td>0.749541</td>\n",
       "      <td>8.453809</td>\n",
       "      <td>15.546191</td>\n",
       "    </tr>\n",
       "    <tr>\n",
       "      <th>That '70s Show</th>\n",
       "      <td>52</td>\n",
       "      <td>7.3</td>\n",
       "      <td>8</td>\n",
       "      <td>200</td>\n",
       "      <td>27.289507</td>\n",
       "      <td>Comedy/</td>\n",
       "      <td>3</td>\n",
       "      <td>7.525510</td>\n",
       "      <td>-0.225510</td>\n",
       "      <td>8.465755</td>\n",
       "      <td>-0.465755</td>\n",
       "    </tr>\n",
       "    <tr>\n",
       "      <th>Buffy the Vampire Slayer</th>\n",
       "      <td>95</td>\n",
       "      <td>8.0</td>\n",
       "      <td>7</td>\n",
       "      <td>144</td>\n",
       "      <td>20.664035</td>\n",
       "      <td>Comedy/Drama/Sci-Fi &amp; Fantasy/</td>\n",
       "      <td>1</td>\n",
       "      <td>7.583618</td>\n",
       "      <td>0.416382</td>\n",
       "      <td>6.595649</td>\n",
       "      <td>0.404351</td>\n",
       "    </tr>\n",
       "    <tr>\n",
       "      <th>Weeds</th>\n",
       "      <td>186</td>\n",
       "      <td>7.1</td>\n",
       "      <td>8</td>\n",
       "      <td>102</td>\n",
       "      <td>18.432312</td>\n",
       "      <td>Drama/Comedy/</td>\n",
       "      <td>1</td>\n",
       "      <td>7.567429</td>\n",
       "      <td>-0.467429</td>\n",
       "      <td>8.951229</td>\n",
       "      <td>-0.951229</td>\n",
       "    </tr>\n",
       "    <tr>\n",
       "      <th>Star Trek: Enterprise</th>\n",
       "      <td>314</td>\n",
       "      <td>7.4</td>\n",
       "      <td>4</td>\n",
       "      <td>98</td>\n",
       "      <td>18.592752</td>\n",
       "      <td>Action &amp; Adventure/Drama/Sci-Fi &amp; Fantasy/</td>\n",
       "      <td>0</td>\n",
       "      <td>7.623380</td>\n",
       "      <td>-0.223380</td>\n",
       "      <td>8.366738</td>\n",
       "      <td>-4.366738</td>\n",
       "    </tr>\n",
       "  </tbody>\n",
       "</table>\n",
       "</div>"
      ],
      "text/plain": [
       "                          tv_id  rating  seasons  episodes  popularity  \\\n",
       "show                                                                     \n",
       "Top Gear                     45     7.5       24       176   33.498923   \n",
       "That '70s Show               52     7.3        8       200   27.289507   \n",
       "Buffy the Vampire Slayer     95     8.0        7       144   20.664035   \n",
       "Weeds                       186     7.1        8       102   18.432312   \n",
       "Star Trek: Enterprise       314     7.4        4        98   18.592752   \n",
       "\n",
       "                                                              genres  \\\n",
       "show                                                                   \n",
       "Top Gear                                         Documentary/Comedy/   \n",
       "That '70s Show                                               Comedy/   \n",
       "Buffy the Vampire Slayer              Comedy/Drama/Sci-Fi & Fantasy/   \n",
       "Weeds                                                  Drama/Comedy/   \n",
       "Star Trek: Enterprise     Action & Adventure/Drama/Sci-Fi & Fantasy/   \n",
       "\n",
       "                          genre_id  predicted_rating  ols_residuals  \\\n",
       "show                                                                  \n",
       "Top Gear                         3          6.750459       0.749541   \n",
       "That '70s Show                   3          7.525510      -0.225510   \n",
       "Buffy the Vampire Slayer         1          7.583618       0.416382   \n",
       "Weeds                            1          7.567429      -0.467429   \n",
       "Star Trek: Enterprise            0          7.623380      -0.223380   \n",
       "\n",
       "                          predicted_seasons  seasons_residuals  \n",
       "show                                                            \n",
       "Top Gear                           8.453809          15.546191  \n",
       "That '70s Show                     8.465755          -0.465755  \n",
       "Buffy the Vampire Slayer           6.595649           0.404351  \n",
       "Weeds                              8.951229          -0.951229  \n",
       "Star Trek: Enterprise              8.366738          -4.366738  "
      ]
     },
     "execution_count": 19,
     "metadata": {},
     "output_type": "execute_result"
    }
   ],
   "source": [
    "df1[\"seasons_residuals\"] = df1[\"seasons\"] - df1[\"predicted_seasons\"]\n",
    "df1.head()"
   ]
  },
  {
   "cell_type": "markdown",
   "metadata": {},
   "source": [
    "### Some better visualization"
   ]
  },
  {
   "cell_type": "code",
   "execution_count": 20,
   "metadata": {},
   "outputs": [
    {
     "data": {
      "image/png": "[encoded data removed]",
      "text/plain": [
       "<matplotlib.figure.Figure at 0x7ffb3e46ee80>"
      ]
     },
     "metadata": {},
     "output_type": "display_data"
    },
    {
     "data": {
      "text/plain": [
       "<ggplot: (-9223363242038628797)>"
      ]
     },
     "execution_count": 20,
     "metadata": {},
     "output_type": "execute_result"
    }
   ],
   "source": [
    "ggplot(aes(x='genre_id', y='ols_residuals'), data=df1) +\\\n",
    "    geom_violin() +\\\n",
    "    labs(title=\"rating residuals across genres\",\n",
    "         x = \"genre key\",\n",
    "         y = \"rating residual\")"
   ]
  },
  {
   "cell_type": "code",
   "execution_count": 21,
   "metadata": {},
   "outputs": [
    {
     "data": {
      "image/png": "[encoded data removed]",
      "text/plain": [
       "<matplotlib.figure.Figure at 0x7ffb41dcb0f0>"
      ]
     },
     "metadata": {},
     "output_type": "display_data"
    },
    {
     "data": {
      "text/plain": [
       "<ggplot: (8794816123691)>"
      ]
     },
     "execution_count": 21,
     "metadata": {},
     "output_type": "execute_result"
    }
   ],
   "source": [
    "ggplot(aes(x='genre_id', y='seasons_residuals'), data=df1) +\\\n",
    "    geom_violin() +\\\n",
    "    labs(title=\"seasons residuals across genres\",\n",
    "         x = \"genre key\",\n",
    "         y = \"season residual\")"
   ]
  },
  {
   "cell_type": "code",
   "execution_count": 22,
   "metadata": {},
   "outputs": [
    {
     "data": {
      "image/png": "[encoded data removed]",
      "text/plain": [
       "<matplotlib.figure.Figure at 0x7ffb41d54438>"
      ]
     },
     "metadata": {},
     "output_type": "display_data"
    },
    {
     "data": {
      "text/plain": [
       "<ggplot: (8794816096723)>"
      ]
     },
     "execution_count": 22,
     "metadata": {},
     "output_type": "execute_result"
    }
   ],
   "source": [
    "ggplot(aes(x='genre_id', y='rating'), data=df1) +\\\n",
    "    geom_violin() +\\\n",
    "    labs(title=\"ratings across genres\",\n",
    "         x = \"genre key\",\n",
    "         y = \"rating\")"
   ]
  },
  {
   "cell_type": "code",
   "execution_count": 23,
   "metadata": {},
   "outputs": [
    {
     "data": {
      "image/png": "[encoded data removed]",
      "text/plain": [
       "<matplotlib.figure.Figure at 0x7ffb3e2cfa58>"
      ]
     },
     "metadata": {},
     "output_type": "display_data"
    },
    {
     "data": {
      "text/plain": [
       "<ggplot: (8794816067795)>"
      ]
     },
     "execution_count": 23,
     "metadata": {},
     "output_type": "execute_result"
    }
   ],
   "source": [
    "ggplot(aes(x='seasons', y='rating'), data=df1) +\\\n",
    "    geom_violin() +\\\n",
    "    labs(title=\"overall rating across total seasons\",\n",
    "         x = \"num seasons\",\n",
    "         y = \"rating\")"
   ]
  },
  {
   "cell_type": "code",
   "execution_count": 24,
   "metadata": {},
   "outputs": [
    {
     "data": {
      "image/png": "[encoded data removed]",
      "text/plain": [
       "<matplotlib.figure.Figure at 0x7ffb3dffdef0>"
      ]
     },
     "metadata": {},
     "output_type": "display_data"
    },
    {
     "data": {
      "text/plain": [
       "<ggplot: (-9223363242038949344)>"
      ]
     },
     "execution_count": 24,
     "metadata": {},
     "output_type": "execute_result"
    }
   ],
   "source": [
    "ggplot(aes(x='genre_id', y='predicted_seasons'), data=df1) +\\\n",
    "    geom_violin() +\\\n",
    "    labs(title=\"predicted seasons across genres\",\n",
    "         x = \"genre key\",\n",
    "         y = \"seasons\")"
   ]
  },
  {
   "cell_type": "code",
   "execution_count": 27,
   "metadata": {},
   "outputs": [
    {
     "data": {
      "image/png": "[encoded data removed]",
      "text/plain": [
       "<matplotlib.figure.Figure at 0x7ffb3d947198>"
      ]
     },
     "metadata": {},
     "output_type": "display_data"
    },
    {
     "data": {
      "text/plain": [
       "<ggplot: (-9223363242039359635)>"
      ]
     },
     "execution_count": 27,
     "metadata": {},
     "output_type": "execute_result"
    }
   ],
   "source": [
    "ggplot(aes(x='rating', y='predicted_seasons'), data=df1) +\\\n",
    "    geom_violin() +\\\n",
    "    labs(title=\"predicted seasons across ratings\",\n",
    "         x = \"rating\",\n",
    "         y = \"seasons\")"
   ]
  },
  {
   "cell_type": "code",
   "execution_count": 28,
   "metadata": {},
   "outputs": [
    {
     "data": {
      "image/png": "[encoded data removed]",
      "text/plain": [
       "<matplotlib.figure.Figure at 0x7ffb3d5cacf8>"
      ]
     },
     "metadata": {},
     "output_type": "display_data"
    },
    {
     "data": {
      "text/plain": [
       "<ggplot: (8794815513124)>"
      ]
     },
     "execution_count": 28,
     "metadata": {},
     "output_type": "execute_result"
    }
   ],
   "source": [
    "ggplot(aes(x='genre_id', y='predicted_rating'), data=df1) +\\\n",
    "    geom_violin() +\\\n",
    "    labs(title=\"predicted rating across genres\",\n",
    "         x = \"genre key\",\n",
    "         y = \"rating\")"
   ]
  },
  {
   "cell_type": "markdown",
   "metadata": {},
   "source": [
    "Let's see how well our prediction models stack up against real life data and look and average rating across seasons/"
   ]
  },
  {
   "cell_type": "code",
   "execution_count": 29,
   "metadata": {},
   "outputs": [],
   "source": [
    "simpsons = df1[df1[\"tv_id\"] == 456]"
   ]
  },
  {
   "cell_type": "code",
   "execution_count": 30,
   "metadata": {},
   "outputs": [
    {
     "data": {
      "text/html": [
       "<div>\n",
       "<table border=\"1\" class=\"dataframe\">\n",
       "  <thead>\n",
       "    <tr style=\"text-align: right;\">\n",
       "      <th></th>\n",
       "      <th>tv_id</th>\n",
       "      <th>rating</th>\n",
       "      <th>seasons</th>\n",
       "      <th>episodes</th>\n",
       "      <th>popularity</th>\n",
       "      <th>genres</th>\n",
       "      <th>genre_id</th>\n",
       "      <th>predicted_rating</th>\n",
       "      <th>ols_residuals</th>\n",
       "      <th>predicted_seasons</th>\n",
       "      <th>seasons_residuals</th>\n",
       "    </tr>\n",
       "    <tr>\n",
       "      <th>show</th>\n",
       "      <th></th>\n",
       "      <th></th>\n",
       "      <th></th>\n",
       "      <th></th>\n",
       "      <th></th>\n",
       "      <th></th>\n",
       "      <th></th>\n",
       "      <th></th>\n",
       "      <th></th>\n",
       "      <th></th>\n",
       "      <th></th>\n",
       "    </tr>\n",
       "  </thead>\n",
       "  <tbody>\n",
       "    <tr>\n",
       "      <th>The Simpsons</th>\n",
       "      <td>456</td>\n",
       "      <td>7.1</td>\n",
       "      <td>29</td>\n",
       "      <td>688</td>\n",
       "      <td>142.196713</td>\n",
       "      <td>Animation/Comedy/</td>\n",
       "      <td>2</td>\n",
       "      <td>6.989866</td>\n",
       "      <td>0.110134</td>\n",
       "      <td>13.803118</td>\n",
       "      <td>15.196882</td>\n",
       "    </tr>\n",
       "  </tbody>\n",
       "</table>\n",
       "</div>"
      ],
      "text/plain": [
       "              tv_id  rating  seasons  episodes  popularity             genres  \\\n",
       "show                                                                            \n",
       "The Simpsons    456     7.1       29       688  142.196713  Animation/Comedy/   \n",
       "\n",
       "              genre_id  predicted_rating  ols_residuals  predicted_seasons  \\\n",
       "show                                                                         \n",
       "The Simpsons         2          6.989866       0.110134          13.803118   \n",
       "\n",
       "              seasons_residuals  \n",
       "show                             \n",
       "The Simpsons          15.196882  "
      ]
     },
     "execution_count": 30,
     "metadata": {},
     "output_type": "execute_result"
    }
   ],
   "source": [
    "simpsons"
   ]
  },
  {
   "cell_type": "code",
   "execution_count": 31,
   "metadata": {},
   "outputs": [
    {
     "name": "stderr",
     "output_type": "stream",
     "text": [
      "/opt/conda/lib/python3.6/site-packages/ipykernel_launcher.py:16: SettingWithCopyWarning: \n",
      "A value is trying to be set on a copy of a slice from a DataFrame.\n",
      "Try using .loc[row_indexer,col_indexer] = value instead\n",
      "\n",
      "See the caveats in the documentation: http://pandas.pydata.org/pandas-docs/stable/indexing.html#indexing-view-versus-copy\n",
      "  app.launch_new_instance()\n"
     ]
    }
   ],
   "source": [
    "for x in range(1,30):\n",
    "    season = tmdb.TV_Seasons(456, x)\n",
    "    time.sleep(.251)\n",
    "    info = season.info()\n",
    "\n",
    "    try:\n",
    "        curr = 0\n",
    "        episodes = info.get(\"episodes\")\n",
    "        num = 0\n",
    "        for ep in episodes:\n",
    "            if ep.get(\"vote_count\") > 0:\n",
    "                curr += ep.get(\"vote_average\")\n",
    "                num += 1\n",
    "        avg = curr / num\n",
    "        key = \"season\" + str(x)\n",
    "        simpsons[key] = avg\n",
    "    except:\n",
    "        pass"
   ]
  },
  {
   "cell_type": "code",
   "execution_count": 32,
   "metadata": {},
   "outputs": [
    {
     "data": {
      "text/html": [
       "<div>\n",
       "<table border=\"1\" class=\"dataframe\">\n",
       "  <thead>\n",
       "    <tr style=\"text-align: right;\">\n",
       "      <th></th>\n",
       "      <th>tv_id</th>\n",
       "      <th>rating</th>\n",
       "      <th>seasons</th>\n",
       "      <th>episodes</th>\n",
       "      <th>popularity</th>\n",
       "      <th>genres</th>\n",
       "      <th>genre_id</th>\n",
       "      <th>predicted_rating</th>\n",
       "      <th>ols_residuals</th>\n",
       "      <th>predicted_seasons</th>\n",
       "      <th>...</th>\n",
       "      <th>season20</th>\n",
       "      <th>season21</th>\n",
       "      <th>season22</th>\n",
       "      <th>season23</th>\n",
       "      <th>season24</th>\n",
       "      <th>season25</th>\n",
       "      <th>season26</th>\n",
       "      <th>season27</th>\n",
       "      <th>season28</th>\n",
       "      <th>season29</th>\n",
       "    </tr>\n",
       "    <tr>\n",
       "      <th>show</th>\n",
       "      <th></th>\n",
       "      <th></th>\n",
       "      <th></th>\n",
       "      <th></th>\n",
       "      <th></th>\n",
       "      <th></th>\n",
       "      <th></th>\n",
       "      <th></th>\n",
       "      <th></th>\n",
       "      <th></th>\n",
       "      <th></th>\n",
       "      <th></th>\n",
       "      <th></th>\n",
       "      <th></th>\n",
       "      <th></th>\n",
       "      <th></th>\n",
       "      <th></th>\n",
       "      <th></th>\n",
       "      <th></th>\n",
       "      <th></th>\n",
       "      <th></th>\n",
       "    </tr>\n",
       "  </thead>\n",
       "  <tbody>\n",
       "    <tr>\n",
       "      <th>The Simpsons</th>\n",
       "      <td>456</td>\n",
       "      <td>7.1</td>\n",
       "      <td>29</td>\n",
       "      <td>688</td>\n",
       "      <td>142.196713</td>\n",
       "      <td>Animation/Comedy/</td>\n",
       "      <td>2</td>\n",
       "      <td>6.989866</td>\n",
       "      <td>0.110134</td>\n",
       "      <td>13.803118</td>\n",
       "      <td>...</td>\n",
       "      <td>7.058714</td>\n",
       "      <td>6.130391</td>\n",
       "      <td>6.890182</td>\n",
       "      <td>6.822</td>\n",
       "      <td>6.492409</td>\n",
       "      <td>6.924909</td>\n",
       "      <td>6.865864</td>\n",
       "      <td>6.874136</td>\n",
       "      <td>6.206409</td>\n",
       "      <td>5.75</td>\n",
       "    </tr>\n",
       "  </tbody>\n",
       "</table>\n",
       "<p>1 rows × 40 columns</p>\n",
       "</div>"
      ],
      "text/plain": [
       "              tv_id  rating  seasons  episodes  popularity             genres  \\\n",
       "show                                                                            \n",
       "The Simpsons    456     7.1       29       688  142.196713  Animation/Comedy/   \n",
       "\n",
       "              genre_id  predicted_rating  ols_residuals  predicted_seasons  \\\n",
       "show                                                                         \n",
       "The Simpsons         2          6.989866       0.110134          13.803118   \n",
       "\n",
       "                ...     season20  season21  season22  season23  season24  \\\n",
       "show            ...                                                        \n",
       "The Simpsons    ...     7.058714  6.130391  6.890182     6.822  6.492409   \n",
       "\n",
       "              season25  season26  season27  season28  season29  \n",
       "show                                                            \n",
       "The Simpsons  6.924909  6.865864  6.874136  6.206409      5.75  \n",
       "\n",
       "[1 rows x 40 columns]"
      ]
     },
     "execution_count": 32,
     "metadata": {},
     "output_type": "execute_result"
    }
   ],
   "source": [
    "simpsons"
   ]
  },
  {
   "cell_type": "code",
   "execution_count": 33,
   "metadata": {},
   "outputs": [],
   "source": [
    "x = []\n",
    "y = []\n",
    "for i in range(1,30):\n",
    "    x.append(i)\n",
    "    key = \"season\" + str(i)\n",
    "    y.append(simpsons[key][0])"
   ]
  },
  {
   "cell_type": "code",
   "execution_count": 34,
   "metadata": {},
   "outputs": [
    {
     "data": {
      "image/png": "[encoded data removed]",
      "text/plain": [
       "<matplotlib.figure.Figure at 0x7ffb3d9585f8>"
      ]
     },
     "metadata": {},
     "output_type": "display_data"
    }
   ],
   "source": [
    "plt.plot(x,y)\n",
    "#rating = np.array( [simpsons[\"rating\"] for i in range(len(x))] )\n",
    "overall = plt.axhline(y=simpsons[\"rating\"][0], color='r', linestyle='--', label='overall')\n",
    "vert = plt.axvline(x=simpsons[\"predicted_seasons\"][0], color='g', linestyle='--', label ='predicted season')\n",
    "plt.legend(handles=[overall,vert], loc=4)\n",
    "plt.xlabel(\"seasons\")\n",
    "plt.ylabel(\"rating\")\n",
    "plt.title(\"The Simpsons ratings across seasons\")\n",
    "plt.show()"
   ]
  },
  {
   "cell_type": "markdown",
   "metadata": {},
   "source": [
    "Season 13/14 of the simpsons certainly was a relative low for the show, maybe it stayed past it's welcome"
   ]
  },
  {
   "cell_type": "markdown",
   "metadata": {},
   "source": [
    "### Conclusion: How did our hypothesis test out?\n",
    "\n",
    "From the data and the tests we ran, it seems that our hypothesis was relatively accurate. Comedies and action shows tend to have lower ratings and run longer than other more serious genres, while those genres will typically have higher user ratings. This may be because as comedy and action shows become popular, the networks see them as a safe bet to be successful and continually renew them; at the risk of having the shows become less unique than previous seasons and an overall drop in quality."
   ]
  },
  {
   "cell_type": "markdown",
   "metadata": {},
   "source": [
    "# Part 2 \n",
    "## Does the age of a cast influence ratings?\n",
    "\n",
    "This section of the tutorial tests if and how the age of a cast influences reviews of movies. Like the previous section, the data is gathered from tmdb using their api and one of tmdb's api wrappers called tmdb simple. We hypothesize that older casts will tend to have higher reviews, since more experience may translate to better performances. We will test this hypothesis with the following steps:\n",
    "\n",
    "1. Gathering data on movies with more than 200 votes\n",
    "2. Cleaning and organizing the data in a pandas table \n",
    "3. Plotting and analyzing lines of best fit"
   ]
  },
  {
   "cell_type": "markdown",
   "metadata": {},
   "source": [
    "## Data Gathering\n",
    "\n",
    "\n",
    "#### Challenges\n",
    "The data gathering process for movies on tmdb presented two main challenges: the unknown id's of movies and the rate limited api. The movie endpoint on tmdb requires a movieId parameter, but tmdb does not have any published list of id's. This means that we needed to iterate through every possible movie id until we reached the most recently added movie. \n",
    "\n",
    "The movie id's range from 0 to around 500,000. Unfortunately, there are many indicies that do not correspond to any movie, so there are tens of thousands of invalid movie id's. This made it necessary to use try statements when accessing the return value for all the api calls. Given that we needed to iterate through 500,000, the 240/min api rate limit caused the gathering process to take around 48 hours. \n",
    "\n",
    "Getting the ages of the actors required using tmdb's person endpoint, with the personId's gathered from the movie's cast list.\n",
    "\n",
    "#### Approach\n",
    "For the actual movie data we recorded, we only wanted data about movies with more than 200 votes. Otherwise, the ratings may not be so reliable. We also wanted to considered that there may be differences when dealing with the average age of the top 10, 6, 3 and lead role, so we calculated these data points in the tsv file. Overall, the tsv contains the following data points: title of movie, rating of movie (scale 1 to 10), release data, and the average age of the top 10, 6, 3, and 1 actors. The \"top\" actors are defined by the order that they appear in the cast list for each movie. \n",
    "\n",
    "Note that we use -1 for the average age when the group is not complete (if there are 5 actors listed, age_6 will be -1 but age_3 will be recorded).\n",
    "\n",
    "The following functions were used to collect the data described above, which would be appended to the tsv. "
   ]
  },
  {
   "cell_type": "code",
   "execution_count": null,
   "metadata": {
    "collapsed": true
   },
   "outputs": [],
   "source": [
    "# This code was only run once to initialize the tsv\n",
    "\n",
    "#with open(\"output.tsv\", \"w\") as f:\n",
    "#    print (\"\\t%s\\t%s\\t%s\\t%s\\t%s\\t%s\\t%s\" % (\"movie\", \"rating\", \"release\", \"age_10\", \"age_6\", \"age_3\", \"age_1\"), file=f)"
   ]
  },
  {
   "cell_type": "code",
   "execution_count": null,
   "metadata": {
    "collapsed": true
   },
   "outputs": [],
   "source": [
    "# write a line to the tsv\n",
    "def saveLine(index, movie, rating, release, age_10, age_6, age_3, age_1):\n",
    "    with open(\"output.tsv\", \"a\") as f:\n",
    "        print (\"%d\\t%s\\t%s\\t%s\\t%s\\t%s\\t%s\\t%s\" % (index, movie, rating, release, age_10, age_6, age_3, age_1), file=f)"
   ]
  },
  {
   "cell_type": "code",
   "execution_count": null,
   "metadata": {
    "collapsed": true
   },
   "outputs": [],
   "source": [
    "def getSingleAge(actID,release):\n",
    "    person = tmdb.People(actID)\n",
    "    try:\n",
    "        bd = person.info().get('birthday')\n",
    "        bd = parser.parse(bd)\n",
    "        rl = parser.parse(release)\n",
    "        delta = (rl - bd).days/365\n",
    "        return round(delta,1)\n",
    "    except:\n",
    "        return -1\n",
    "    \n",
    "def getAges(actors,release,movieIndex,title,rating):\n",
    "    age_10 = -1\n",
    "    age_6 = -1\n",
    "    age_3 = -1\n",
    "    age_1 = -1\n",
    "    ages = []\n",
    "\n",
    "    q = len(actors)\n",
    "    for x in range(q):\n",
    "        time.sleep(.25)\n",
    "        \n",
    "        try:\n",
    "            c = getSingleAge(actors[x].get('id'),release)\n",
    "            if(c > 1):\n",
    "                ages.append(c)\n",
    "        except:\n",
    "            ages = ages\n",
    "    if(len(ages) > 9):\n",
    "        age_10 = sum(ages)/10\n",
    "    if(len(ages) > 5):\n",
    "        age_6 = sum(ages[:6])/6\n",
    "    if(len(ages) > 2):\n",
    "        age_3 = sum(ages[:3])/3\n",
    "    if(len(ages) > 0):\n",
    "        age_1 = ages[0]\n",
    "    saveLine(movieIndex,title,rating, release, age_10, age_6, age_3, age_1)\n",
    "\n",
    "    \n",
    "movieIndex = 500000\n",
    "\n",
    "while(movieIndex < 500000):\n",
    "    movie = tmdb.Movies(movieIndex)\n",
    "    time.sleep(.25)\n",
    "    actors = []\n",
    "    try:\n",
    "        info = movie.info()\n",
    "        title = info.get('title')\n",
    "        votes = info.get('vote_count')\n",
    "        print(votes)\n",
    "        if((int(votes) > 200) and hasattr(movie,'credits')):\n",
    "            print('working')\n",
    "            release = info.get('release_date')\n",
    "            actors = movie.credits().get('cast')\n",
    "            rating = info.get('vote_average')\n",
    "            if(len(actors) > 9):\n",
    "                actors = actors[:10]\n",
    "            elif(len(actors) > 5):\n",
    "                actors = actors[:6]\n",
    "            elif(len(actors) > 2):\n",
    "                actors = actors[:3]\n",
    "            elif(len(actors) > 0):\n",
    "                actors = actors[:1]\n",
    "                \n",
    "    except:\n",
    "        print(\"Not valid\")\n",
    "        \n",
    "    if(len(actors) > 0):\n",
    "        getAges(actors,release,movieIndex,title,rating)\n",
    "\n",
    "    print(movieIndex)\n",
    "    movieIndex += 1"
   ]
  },
  {
   "cell_type": "markdown",
   "metadata": {},
   "source": [
    "### Dataframe \n",
    "Here's a sample of the 4200 rows of data that was collected. We use drop duplicates since there were a few duplicates from human error (not using the right index between gathering sessions)."
   ]
  },
  {
   "cell_type": "code",
   "execution_count": 114,
   "metadata": {},
   "outputs": [
    {
     "data": {
      "text/html": [
       "<div>\n",
       "<table border=\"1\" class=\"dataframe\">\n",
       "  <thead>\n",
       "    <tr style=\"text-align: right;\">\n",
       "      <th></th>\n",
       "      <th>movie</th>\n",
       "      <th>rating</th>\n",
       "      <th>release</th>\n",
       "      <th>age_10</th>\n",
       "      <th>age_6</th>\n",
       "      <th>age_3</th>\n",
       "      <th>age_1</th>\n",
       "    </tr>\n",
       "  </thead>\n",
       "  <tbody>\n",
       "    <tr>\n",
       "      <th>5</th>\n",
       "      <td>Four Rooms</td>\n",
       "      <td>6.5</td>\n",
       "      <td>1995-12-09</td>\n",
       "      <td>32.81</td>\n",
       "      <td>35.183333</td>\n",
       "      <td>34.000000</td>\n",
       "      <td>34.6</td>\n",
       "    </tr>\n",
       "    <tr>\n",
       "      <th>11</th>\n",
       "      <td>Star Wars</td>\n",
       "      <td>8.1</td>\n",
       "      <td>1977-05-25</td>\n",
       "      <td>40.38</td>\n",
       "      <td>39.950000</td>\n",
       "      <td>27.066667</td>\n",
       "      <td>25.7</td>\n",
       "    </tr>\n",
       "    <tr>\n",
       "      <th>12</th>\n",
       "      <td>Finding Nemo</td>\n",
       "      <td>7.6</td>\n",
       "      <td>2003-05-30</td>\n",
       "      <td>44.63</td>\n",
       "      <td>40.850000</td>\n",
       "      <td>36.800000</td>\n",
       "      <td>55.9</td>\n",
       "    </tr>\n",
       "    <tr>\n",
       "      <th>13</th>\n",
       "      <td>Forrest Gump</td>\n",
       "      <td>8.3</td>\n",
       "      <td>1994-07-06</td>\n",
       "      <td>-1.00</td>\n",
       "      <td>33.450000</td>\n",
       "      <td>35.200000</td>\n",
       "      <td>38.0</td>\n",
       "    </tr>\n",
       "    <tr>\n",
       "      <th>14</th>\n",
       "      <td>American Beauty</td>\n",
       "      <td>7.9</td>\n",
       "      <td>1999-09-15</td>\n",
       "      <td>35.55</td>\n",
       "      <td>31.466667</td>\n",
       "      <td>33.000000</td>\n",
       "      <td>40.2</td>\n",
       "    </tr>\n",
       "  </tbody>\n",
       "</table>\n",
       "</div>"
      ],
      "text/plain": [
       "              movie  rating     release  age_10      age_6      age_3  age_1\n",
       "5        Four Rooms     6.5  1995-12-09   32.81  35.183333  34.000000   34.6\n",
       "11        Star Wars     8.1  1977-05-25   40.38  39.950000  27.066667   25.7\n",
       "12     Finding Nemo     7.6  2003-05-30   44.63  40.850000  36.800000   55.9\n",
       "13     Forrest Gump     8.3  1994-07-06   -1.00  33.450000  35.200000   38.0\n",
       "14  American Beauty     7.9  1999-09-15   35.55  31.466667  33.000000   40.2"
      ]
     },
     "execution_count": 114,
     "metadata": {},
     "output_type": "execute_result"
    }
   ],
   "source": [
    "# load dataframe from tsv \n",
    "ageData = pd.DataFrame.from_csv(\"output.tsv\", sep='\\t').drop_duplicates()\n",
    "ageData.head()"
   ]
  },
  {
   "cell_type": "markdown",
   "metadata": {},
   "source": [
    "## Age vs Reviews\n",
    "\n",
    "Now let's have a quick look at the age-review relationships with some scatterplots with best fit lines. A 3 degree polynomial should be able to show us any important changes without too much overfitting.\n",
    "\n",
    "#### Lead Role (age_1)"
   ]
  },
  {
   "cell_type": "code",
   "execution_count": 102,
   "metadata": {},
   "outputs": [
    {
     "data": {
      "image/png": "[encoded data removed]",
      "text/plain": [
       "<matplotlib.figure.Figure at 0x7f85b9de3ef0>"
      ]
     },
     "metadata": {},
     "output_type": "display_data"
    }
   ],
   "source": [
    "temp = ageData.query('age_1 > 0')\n",
    "plt.ylabel('rating')\n",
    "plt.xlabel('age')\n",
    "plt.plot(np.unique(temp.age_1), np.poly1d(np.polyfit(temp.age_1, temp.rating, 3))(np.unique(temp.age_1)), c=\"red\")\n",
    "plt.scatter(temp.age_1, temp.rating, s=2, c=\"turquoise\")\n",
    "plt.show()"
   ]
  },
  {
   "cell_type": "markdown",
   "metadata": {},
   "source": [
    "#### Top 3  Actors (age_3)"
   ]
  },
  {
   "cell_type": "code",
   "execution_count": 103,
   "metadata": {},
   "outputs": [
    {
     "data": {
      "image/png": "[encoded data removed]",
      "text/plain": [
       "<matplotlib.figure.Figure at 0x7f85b6c9b7b8>"
      ]
     },
     "metadata": {},
     "output_type": "display_data"
    }
   ],
   "source": [
    "temp = ageData.query('age_3 > 0')\n",
    "plt.ylabel('rating')\n",
    "plt.xlabel('age')\n",
    "plt.plot(np.unique(temp.age_3), np.poly1d(np.polyfit(temp.age_3, temp.rating, 3))(np.unique(temp.age_3)), c=\"red\")\n",
    "plt.scatter(temp.age_3, temp.rating, s=2, c=\"turquoise\")\n",
    "plt.show()"
   ]
  },
  {
   "cell_type": "markdown",
   "metadata": {},
   "source": [
    "#### Top 6 Actors (age_6)"
   ]
  },
  {
   "cell_type": "code",
   "execution_count": 104,
   "metadata": {},
   "outputs": [
    {
     "data": {
      "image/png": "[encoded data removed]",
      "text/plain": [
       "<matplotlib.figure.Figure at 0x7f85b8d9dd68>"
      ]
     },
     "metadata": {},
     "output_type": "display_data"
    }
   ],
   "source": [
    "temp = ageData.query('age_6 > 0')\n",
    "plt.ylabel('rating')\n",
    "plt.xlabel('age')\n",
    "plt.plot(np.unique(temp.age_6), np.poly1d(np.polyfit(temp.age_6, temp.rating, 3))(np.unique(temp.age_6)), c=\"red\")\n",
    "plt.scatter(temp.age_6, temp.rating, s=2, c=\"turquoise\")\n",
    "plt.show()"
   ]
  },
  {
   "cell_type": "markdown",
   "metadata": {},
   "source": [
    "#### Top 10 Actors (age_10)"
   ]
  },
  {
   "cell_type": "code",
   "execution_count": 105,
   "metadata": {},
   "outputs": [
    {
     "data": {
      "image/png": "[encoded data removed]",
      "text/plain": [
       "<matplotlib.figure.Figure at 0x7f85b8efab70>"
      ]
     },
     "metadata": {},
     "output_type": "display_data"
    }
   ],
   "source": [
    "temp = ageData.query('age_10 > 0')\n",
    "plt.ylabel('rating')\n",
    "plt.xlabel('age')\n",
    "plt.plot(np.unique(temp.age_10), np.poly1d(np.polyfit(temp.age_10, temp.rating, 3))(np.unique(temp.age_10)), c=\"red\")\n",
    "plt.scatter(temp.age_6, temp.rating, s=2, c=\"turquoise\")\n",
    "plt.show()"
   ]
  },
  {
   "cell_type": "markdown",
   "metadata": {},
   "source": [
    "### Going by the looks\n",
    "By the pure look of the scatter plots and the trendline, there's no clear correlation. The data points look fairly evenly distributed around an average cast age of 40 and rating of 6.5.  "
   ]
  },
  {
   "cell_type": "markdown",
   "metadata": {},
   "source": [
    "### Going by the numbers\n",
    "Let's see if there is any slope at all in the one-degree polynomial lines."
   ]
  },
  {
   "cell_type": "code",
   "execution_count": 115,
   "metadata": {},
   "outputs": [
    {
     "name": "stdout",
     "output_type": "stream",
     "text": [
      "Lead slope:\n",
      "-0.00181079482964\n",
      "Top 3 slope:\n",
      "-0.00139562318732\n",
      "Top 6 slope:\n",
      "0.00318308057983\n",
      "Top 10 slope:\n",
      "0.00495935772605\n"
     ]
    }
   ],
   "source": [
    "print(\"Lead slope:\")\n",
    "print(np.poly1d(np.polyfit(temp.age_1, temp.rating, 1))[1])\n",
    "print(\"Top 3 slope:\")\n",
    "print(np.poly1d(np.polyfit(temp.age_3, temp.rating, 1))[1])\n",
    "print(\"Top 6 slope:\")\n",
    "print(np.poly1d(np.polyfit(temp.age_6, temp.rating, 1))[1])\n",
    "print(\"Top 10 slope:\")\n",
    "print(np.poly1d(np.polyfit(temp.age_10, temp.rating, 1))[1])"
   ]
  },
  {
   "cell_type": "markdown",
   "metadata": {},
   "source": [
    "## How did our hypothesis do?\n",
    "\n",
    "After this analysis, it seems that our hypothesis is wrong and older actors don't make better movies after all. However, one interesting takeaway is that the scatterplots have somewhat smooth distributions. While we can't prove our hypothesis, we can still deliver some fun facts...\n",
    "\n",
    "## Fun facts\n",
    "### Average ages of top cast members...todo"
   ]
  },
  {
   "cell_type": "code",
   "execution_count": null,
   "metadata": {
    "collapsed": true
   },
   "outputs": [],
   "source": []
  }
 ],
 "metadata": {
  "kernelspec": {
   "display_name": "Python 3",
   "language": "python",
   "name": "python3"
  },
  "language_info": {
   "codemirror_mode": {
    "name": "ipython",
    "version": 3
   },
   "file_extension": ".py",
   "mimetype": "text/x-python",
   "name": "python",
   "nbconvert_exporter": "python",
   "pygments_lexer": "ipython3",
   "version": "3.6.3"
  }
 },
 "nbformat": 4,
 "nbformat_minor": 2
}
