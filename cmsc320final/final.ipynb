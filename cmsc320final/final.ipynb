{
 "cells": [
  {
   "cell_type": "code",
   "execution_count": 2,
   "metadata": {},
   "outputs": [
    {
     "name": "stdout",
     "output_type": "stream",
     "text": [
      "Collecting tmdbsimple\n",
      "  Downloading tmdbsimple-1.8.0-py2.py3-none-any.whl\n",
      "Requirement already satisfied: requests in /opt/conda/lib/python3.6/site-packages (from tmdbsimple)\n",
      "Requirement already satisfied: chardet<3.1.0,>=3.0.2 in /opt/conda/lib/python3.6/site-packages (from requests->tmdbsimple)\n",
      "Requirement already satisfied: idna<2.7,>=2.5 in /opt/conda/lib/python3.6/site-packages (from requests->tmdbsimple)\n",
      "Requirement already satisfied: urllib3<1.23,>=1.21.1 in /opt/conda/lib/python3.6/site-packages (from requests->tmdbsimple)\n",
      "Requirement already satisfied: certifi>=2017.4.17 in /opt/conda/lib/python3.6/site-packages (from requests->tmdbsimple)\n",
      "Installing collected packages: tmdbsimple\n",
      "Successfully installed tmdbsimple-1.8.0\n"
     ]
    }
   ],
   "source": [
    "!pip install tmdbsimple"
   ]
  },
  {
   "cell_type": "code",
   "execution_count": 14,
   "metadata": {
    "collapsed": true
   },
   "outputs": [],
   "source": [
    "import tmdbsimple as tmdb\n",
    "import pandas as pd\n",
    "# Ryan's api key\n",
    "tmdb.API_KEY = '081eaf8dc91b313437dda408f8b122a7'"
   ]
  },
  {
   "cell_type": "code",
   "execution_count": 47,
   "metadata": {
    "collapsed": true
   },
   "outputs": [],
   "source": [
    "# example to write to file\n",
    "from __future__ import print_function\n",
    "with open(\"output.tsv\", \"w\") as f:\n",
    "    print (\"\\t%s\\t%s\\t%s\" % (\"asd\", \"sdf\", \"dfg\"), file=f)\n",
    "    print (\"1\\t%s\\t%s\\t%s\" % (\"sdf\", \"dfg\", \"fgh\"), file=f)\n",
    "    \n"
   ]
  },
  {
   "cell_type": "code",
   "execution_count": 48,
   "metadata": {
    "collapsed": true
   },
   "outputs": [],
   "source": [
    "p = pd.DataFrame.from_csv(\"output.tsv\", sep='\\t')"
   ]
  },
  {
   "cell_type": "code",
   "execution_count": 49,
   "metadata": {},
   "outputs": [
    {
     "data": {
      "text/html": [
       "<div>\n",
       "<table border=\"1\" class=\"dataframe\">\n",
       "  <thead>\n",
       "    <tr style=\"text-align: right;\">\n",
       "      <th></th>\n",
       "      <th>asd</th>\n",
       "      <th>sdf</th>\n",
       "      <th>dfg</th>\n",
       "    </tr>\n",
       "  </thead>\n",
       "  <tbody>\n",
       "    <tr>\n",
       "      <th>1</th>\n",
       "      <td>sdf</td>\n",
       "      <td>dfg</td>\n",
       "      <td>fgh</td>\n",
       "    </tr>\n",
       "  </tbody>\n",
       "</table>\n",
       "</div>"
      ],
      "text/plain": [
       "   asd  sdf  dfg\n",
       "1  sdf  dfg  fgh"
      ]
     },
     "execution_count": 49,
     "metadata": {},
     "output_type": "execute_result"
    }
   ],
   "source": [
    "p"
   ]
  },
  {
   "cell_type": "code",
   "execution_count": 50,
   "metadata": {},
   "outputs": [
    {
     "data": {
      "text/plain": [
       "{'adult': False,\n",
       " 'backdrop_path': '/qlGoGQSVMzIjGbpvXzZUOH1FjNu.jpg',\n",
       " 'belongs_to_collection': None,\n",
       " 'budget': 90000000,\n",
       " 'genres': [{'id': 12, 'name': 'Adventure'},\n",
       "  {'id': 14, 'name': 'Fantasy'},\n",
       "  {'id': 28, 'name': 'Action'},\n",
       "  {'id': 53, 'name': 'Thriller'},\n",
       "  {'id': 878, 'name': 'Science Fiction'}],\n",
       " 'homepage': '',\n",
       " 'id': 18,\n",
       " 'imdb_id': 'tt0119116',\n",
       " 'original_language': 'en',\n",
       " 'original_title': 'The Fifth Element',\n",
       " 'overview': 'In 2257, a taxi driver is unintentionally given the task of saving a young girl who is part of the key that will ensure the survival of humanity.',\n",
       " 'popularity': 16.37248,\n",
       " 'poster_path': '/zaFa1NRZEnFgRTv5OVXkNIZO78O.jpg',\n",
       " 'production_companies': [{'id': 5, 'name': 'Columbia Pictures'},\n",
       "  {'id': 9, 'name': 'Gaumont'}],\n",
       " 'production_countries': [{'iso_3166_1': 'FR', 'name': 'France'}],\n",
       " 'release_date': '1997-05-07',\n",
       " 'revenue': 263920180,\n",
       " 'runtime': 126,\n",
       " 'spoken_languages': [{'iso_639_1': 'en', 'name': 'English'},\n",
       "  {'iso_639_1': 'sv', 'name': 'svenska'},\n",
       "  {'iso_639_1': 'de', 'name': 'Deutsch'}],\n",
       " 'status': 'Released',\n",
       " 'tagline': 'There is no future without it.',\n",
       " 'title': 'The Fifth Element',\n",
       " 'video': False,\n",
       " 'vote_average': 7.3,\n",
       " 'vote_count': 4186}"
      ]
     },
     "execution_count": 50,
     "metadata": {},
     "output_type": "execute_result"
    }
   ],
   "source": [
    "# see source code for tmdb simple, plus https://developers.themoviedb.org/3/getting-started/introduction\n",
    "movie = tmdb.Movies(18)\n",
    "movie.info()\n",
    "# eventually will populate csv file with the info I want, using a loop and the movie api\n",
    "# note that you need to add some sleeps so that you don't do more than the 40 calls/min api limit"
   ]
  }
 ],
 "metadata": {
  "kernelspec": {
   "display_name": "Python 3",
   "language": "python",
   "name": "python3"
  },
  "language_info": {
   "codemirror_mode": {
    "name": "ipython",
    "version": 3
   },
   "file_extension": ".py",
   "mimetype": "text/x-python",
   "name": "python",
   "nbconvert_exporter": "python",
   "pygments_lexer": "ipython3",
   "version": "3.6.2"
  }
 },
 "nbformat": 4,
 "nbformat_minor": 2
}
